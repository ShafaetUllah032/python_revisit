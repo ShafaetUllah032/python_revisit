{
  "cells": [
    {
      "cell_type": "markdown",
      "metadata": {
        "id": "h6dDSW5XGZFi"
      },
      "source": [
        "### **`Problem-1:`** Write a Python function that takes a list and returns a new list with unique elements of the first list.\n",
        "\n",
        "**Exercise 1:**\n",
        "\n",
        "Input:\n",
        "\n",
        "```bash\n",
        "[1,2,3,3,3,3,4,5]\n",
        "```\n",
        "\n",
        "Output:\n",
        "\n",
        "```bash\n",
        "[1, 2, 3, 4, 5]\n",
        "```"
      ]
    },
    {
      "cell_type": "code",
      "execution_count": 5,
      "metadata": {
        "colab": {
          "base_uri": "https://localhost:8080/"
        },
        "id": "R5pq1C9LGe1y",
        "outputId": "18a90671-31e9-4c86-e852-e07c5533d5c6"
      },
      "outputs": [
        {
          "data": {
            "text/plain": [
              "[1, 2, 3, 4, 5]"
            ]
          },
          "execution_count": 5,
          "metadata": {},
          "output_type": "execute_result"
        }
      ],
      "source": [
        "def UniqueEle(l):\n",
        "  s=set()\n",
        "  for i in l:\n",
        "    s.add(i)\n",
        "  st=list(s)\n",
        "  return st\n",
        "\n",
        "l=[1,2,3,3,3,3,4,5]\n",
        "UniqueEle(l)"
      ]
    },
    {
      "cell_type": "markdown",
      "metadata": {
        "id": "UxQ_VoyJGwHj"
      },
      "source": [
        "### **`Problem-2:`** Write a Python function that accepts a hyphen-separated sequence of words as parameter and returns the words in a hyphen-separated sequence after sorting them alphabetically.\n",
        "\n",
        "**Example 1:**\n",
        "\n",
        "Input:\n",
        "```bash\n",
        "green-red-yellow-black-white\n",
        "```\n",
        "\n",
        "Output:\n",
        "```bash\n",
        "black-green-red-white-yellow\n",
        "```"
      ]
    },
    {
      "cell_type": "code",
      "execution_count": 6,
      "metadata": {
        "colab": {
          "base_uri": "https://localhost:8080/"
        },
        "id": "AAts2m5zGwiQ",
        "outputId": "1f56dbb7-3aaa-4c41-d0f3-b9e31ac39caa"
      },
      "outputs": [
        {
          "name": "stdout",
          "output_type": "stream",
          "text": [
            "black-green-red-white-yellow\n"
          ]
        }
      ],
      "source": [
        "# Write code here\n",
        "def SortSt(s):\n",
        "  st=s.split(\"-\")\n",
        "  st.sort()\n",
        "  st=\"-\".join(st)\n",
        "  print(st)\n",
        "\n",
        "s=\"green-red-yellow-black-white\"\n",
        "SortSt(s)\n"
      ]
    },
    {
      "cell_type": "markdown",
      "metadata": {
        "id": "IRGH62S7Gx_n"
      },
      "source": [
        "### **`Problem 3:`** Write a Python function that accepts a string and calculate the number of upper case letters and lower case letters.\n",
        "\n",
        "```\n",
        "Sample String : 'CampusX is an Online Mentorship Program fOr EnginEering studentS.'\n",
        "Expected Output :\n",
        "No. of Upper case characters :  9\n",
        "No. of Lower case Characters :  47\n",
        "```"
      ]
    },
    {
      "cell_type": "code",
      "execution_count": 7,
      "metadata": {
        "colab": {
          "base_uri": "https://localhost:8080/"
        },
        "id": "OaUrD8vVG5o8",
        "outputId": "f92fc5ab-d8d6-4d16-9224-7146ba34ddd6"
      },
      "outputs": [
        {
          "name": "stdout",
          "output_type": "stream",
          "text": [
            "No. of Upper case characters :   9 \n",
            "No. of Lower case Characters : 47\n"
          ]
        }
      ],
      "source": [
        "# Write code here\n",
        "\n",
        "def NumOfCase(s):\n",
        "  lw=0\n",
        "  hg=0\n",
        "  for i in s:\n",
        "    if i.islower():\n",
        "      lw +=1\n",
        "    elif i.isupper():\n",
        "      hg +=1\n",
        "  return lw,hg\n",
        "\n",
        "st=\"CampusX is an Online Mentorship Program fOr EnginEering studentS.\"\n",
        "\n",
        "a,b=NumOfCase(st)\n",
        "print(\"No. of Upper case characters :  \",b,\n",
        "      \"\\n\"\n",
        "      \"No. of Lower case Characters :\",a)\n",
        "\n",
        "\n"
      ]
    },
    {
      "cell_type": "markdown",
      "metadata": {
        "id": "V1BFFdYQG7Sn"
      },
      "source": [
        "### **`Problem 4:`** Write a Python program to print the even numbers from a given list.\n",
        "```\n",
        "Sample List : [1, 2, 3, 4, 5, 6, 7, 8, 9]\n",
        "Expected Result : [2, 4, 6, 8]\n",
        "```"
      ]
    },
    {
      "cell_type": "code",
      "execution_count": 8,
      "metadata": {
        "colab": {
          "base_uri": "https://localhost:8080/"
        },
        "id": "VvAReLoDG_Z3",
        "outputId": "5bd04557-c282-4c83-c895-bde1dee62927"
      },
      "outputs": [
        {
          "data": {
            "text/plain": [
              "[2, 4, 6, 8]"
            ]
          },
          "execution_count": 8,
          "metadata": {},
          "output_type": "execute_result"
        }
      ],
      "source": [
        "# Write code here\n",
        "def FindEven(l):\n",
        "  ls=list()\n",
        "  for i in l:\n",
        "    if i%2==0:\n",
        "      ls.append(i)\n",
        "\n",
        "  return ls\n",
        "\n",
        "l=[1, 2, 3, 4, 5, 6, 7, 8, 9]\n",
        "FindEven(l)"
      ]
    },
    {
      "cell_type": "code",
      "execution_count": 9,
      "metadata": {},
      "outputs": [
        {
          "name": "stdout",
          "output_type": "stream",
          "text": [
            "[2, 4, 6, 8]\n"
          ]
        }
      ],
      "source": [
        "l=[1, 2, 3, 4, 5, 6, 7, 8, 9]\n",
        "\n",
        "ls=list(filter(lambda x:x%2==0, l))\n",
        "print(ls)"
      ]
    },
    {
      "cell_type": "markdown",
      "metadata": {
        "id": "qrK39Gn-HHb4"
      },
      "source": [
        "### **`Problem 5:`** Write a Python function to check whether a number is perfect or not.\n",
        "\n",
        "A Perfect number is a number that is half the sum of all of its positive divisors (including itself).\n",
        "\n",
        "Example :\n",
        "\n",
        "```\n",
        "The first perfect number is 6, because 1, 2, and 3 are its proper positive divisors, and 1 + 2 + 3 = 6.\n",
        "Equivalently, the number 6 is equal to half the sum of all its positive divisors: ( 1 + 2 + 3 + 6 ) / 2 = 6.\n",
        "\n",
        "The next perfect number is 28 = 1 + 2 + 4 + 7 + 14. This is followed by the perfect numbers 496 and 8128.\n",
        "```\n"
      ]
    },
    {
      "cell_type": "code",
      "execution_count": 10,
      "metadata": {
        "colab": {
          "base_uri": "https://localhost:8080/"
        },
        "id": "P-OI7H78HICs",
        "outputId": "8ea900d9-aedf-449f-8c1b-ec8b96aa8acb"
      },
      "outputs": [
        {
          "name": "stdout",
          "output_type": "stream",
          "text": [
            "This is perfect number , the statement is  :  True\n"
          ]
        }
      ],
      "source": [
        "# Write code here\n",
        "def findPerfect(d):\n",
        "  sum =1\n",
        "  i=2\n",
        "  while(i*i<d):\n",
        "    if d%i==0:\n",
        "      sum +=i\n",
        "      if i!=d/i:\n",
        "        sum+=d/i\n",
        "    i+=1\n",
        "  return sum==d\n",
        "\n",
        "print(\"This is perfect number , the statement is  : \",findPerfect(6))\n",
        "\n",
        "\n"
      ]
    },
    {
      "cell_type": "markdown",
      "metadata": {
        "id": "oZdpcG77HO-6"
      },
      "source": [
        "### **`Problem-6:`** Write a Python function to concatenate any no of dictionaries to create a new one.\n",
        "\n",
        "```\n",
        "Sample Dictionary :\n",
        "dic1={1:10, 2:20}\n",
        "dic2={3:30, 4:40}\n",
        "dic3={5:50,6:60}\n",
        "Expected Result : {1: 10, 2: 20, 3: 30, 4: 40, 5: 50, 6: 60}\n",
        "```"
      ]
    },
    {
      "cell_type": "code",
      "execution_count": 11,
      "metadata": {
        "id": "LQgfAY4ZHPhj"
      },
      "outputs": [
        {
          "name": "stdout",
          "output_type": "stream",
          "text": [
            "{5: 50, 6: 60, 1: 10, 2: 20, 3: 30, 4: 40}\n"
          ]
        }
      ],
      "source": [
        "# Write code here\n",
        "result =dict()\n",
        "def MergingDict(dct):\n",
        "    \n",
        "    for key,value in dct.items():\n",
        "        result[key]=value\n",
        "    \n",
        "    return \n",
        "\n",
        "dic1={1:10, 2:20}\n",
        "dic2={3:30, 4:40}\n",
        "dic3={5:50,6:60}\n",
        "\n",
        "MergingDict(dic3)\n",
        "MergingDict(dic1)\n",
        "MergingDict(dic2)\n",
        "\n",
        "\n",
        "print(result)"
      ]
    },
    {
      "cell_type": "code",
      "execution_count": 12,
      "metadata": {},
      "outputs": [
        {
          "name": "stdout",
          "output_type": "stream",
          "text": [
            "[(1, 10), (2, 20), (3, 30), (4, 40), (5, 50), (6, 60)]\n",
            "{1: 10, 2: 20, 3: 30, 4: 40, 5: 50, 6: 60}\n"
          ]
        }
      ],
      "source": [
        "sortedLst=sorted(result.items(),key=lambda x:x[1])\n",
        "print(sortedLst)\n",
        "print(dict(sortedLst))"
      ]
    },
    {
      "cell_type": "markdown",
      "metadata": {
        "id": "jQ6SzbCkHRd0"
      },
      "source": [
        "`Problem-7` Write a python function that accepts a string as input and returns the word with most occurence.\n",
        "\n",
        "```\n",
        "Input:\n",
        "hello how are you i am fine thank you\n",
        "```\n",
        "\n",
        "```\n",
        "Output\n",
        "you -> 2\n",
        "```"
      ]
    },
    {
      "cell_type": "code",
      "execution_count": 13,
      "metadata": {
        "id": "Lh04JHLzIW7Z"
      },
      "outputs": [
        {
          "name": "stdout",
          "output_type": "stream",
          "text": [
            "you  ->  2\n"
          ]
        }
      ],
      "source": [
        "# Write code here\n",
        "\n",
        "def mstOcc(st):\n",
        "    ls=st.split()\n",
        "    d=dict()\n",
        "    for i in ls:\n",
        "        if i not in d:\n",
        "            d[i]=0\n",
        "        d[i] +=1\n",
        "    return d\n",
        "\n",
        "st=\"hello how are you i am fine thank you \"\n",
        "\n",
        "dct=mstOcc(st)\n",
        "\n",
        "mx=0\n",
        "\n",
        "for key, value in dct.items():\n",
        "\n",
        "\n",
        "    if value>mx:\n",
        "        a=key\n",
        "        b=value\n",
        "        mx=value\n",
        "print(a,\" -> \",b)\n",
        "\n",
        "\n"
      ]
    },
    {
      "cell_type": "markdown",
      "metadata": {
        "id": "1r8SpVntI-IW"
      },
      "source": [
        "`Problem-8` Write a python function that receives a list of integers and prints out a histogram of bin size 10\n",
        "\n",
        "```\n",
        "Input:\n",
        "[13,42,15,37,22,39,41,50]\n",
        "```\n",
        "\n",
        "```\n",
        "Output:\n",
        "{11-20:2,21-30:1,31-40:2,41-50:3}\n",
        "```"
      ]
    },
    {
      "cell_type": "code",
      "execution_count": 14,
      "metadata": {
        "id": "7W0J8rUjJovg"
      },
      "outputs": [
        {
          "data": {
            "text/plain": [
              "{'1-10': 2, '11-20': 2, '21-30': 1, '31-40': 2, '41-50': 3}"
            ]
          },
          "execution_count": 14,
          "metadata": {},
          "output_type": "execute_result"
        }
      ],
      "source": [
        "binSize=10\n",
        "hst=dict()\n",
        "def buildingHist(l):\n",
        "   \n",
        "   for i in l:\n",
        "      lower= ((i-1)//binSize) * binSize\n",
        "      upper = lower + binSize\n",
        "      rng=f\"{lower+1}-{upper}\"\n",
        "      if rng not in hst:\n",
        "         hst[rng]=0\n",
        "      hst[rng]+=1\n",
        "   \n",
        "l=[13,42,15,37,22,39,41,50,10,9]\n",
        "buildingHist(l)\n",
        "#hst\n",
        "srtHst=sorted(hst.items(),key=lambda x: x[0])\n",
        "#print(srtHst)\n",
        "hst=dict(srtHst)\n",
        "hst"
      ]
    },
    {
      "cell_type": "markdown",
      "metadata": {
        "id": "1P2-rbgXKE53"
      },
      "source": [
        "`Problem-9` Write a python function that accepts a list of 2D co-ordinates and a query point, and then finds the the co-ordinate which is closest in terms of distance from the query point.\n",
        "\n",
        "```\n",
        "List of Coordinates\n",
        "[(1,1),(2,2),(3,3),(4,4)]\n",
        "Query Point\n",
        "(0,0)\n",
        "```\n",
        "\n",
        "```\n",
        "Output\n",
        "Nearest to (0,0) is (1,1)\n",
        "```"
      ]
    },
    {
      "cell_type": "code",
      "execution_count": 15,
      "metadata": {},
      "outputs": [
        {
          "name": "stdout",
          "output_type": "stream",
          "text": [
            "1\n",
            "2\n",
            "3\n",
            "4\n",
            "0\n"
          ]
        }
      ],
      "source": [
        "ls=[(1,1),(2,2),(3,3),(4,4)]\n",
        "for i in ls:\n",
        "    print(i[1])\n",
        "\n",
        "q=(0,0)\n",
        "print(q[1])"
      ]
    },
    {
      "cell_type": "code",
      "execution_count": 16,
      "metadata": {},
      "outputs": [],
      "source": [
        "import sys\n",
        "MAX_INT = sys.maxsize\n",
        "import math as m"
      ]
    },
    {
      "cell_type": "code",
      "execution_count": 17,
      "metadata": {
        "id": "zjn7vSTIJ81G"
      },
      "outputs": [
        {
          "data": {
            "text/plain": [
              "(1.4142135623730951, (1, 1))"
            ]
          },
          "execution_count": 17,
          "metadata": {},
          "output_type": "execute_result"
        }
      ],
      "source": [
        "# Write code here\n",
        "def distance(a,b):\n",
        "    val=MAX_INT\n",
        "    x=b\n",
        "    for i in a:\n",
        "        dist=m.sqrt(((b[0]-i[0])**2)+(b[1]-i[1])**2)\n",
        "        if dist<val:\n",
        "            val=dist\n",
        "            x=i\n",
        "    return val,x\n",
        "        \n",
        "\n",
        "\n",
        "\n",
        "ls=[(1,1),(2,2),(3,3),(4,4)]\n",
        "q=(0,0)\n",
        "distance(ls,q)"
      ]
    },
    {
      "cell_type": "markdown",
      "metadata": {
        "id": "i-B6igmyK9hB"
      },
      "source": [
        "`Problem-10`:Write a python program that receives a list of strings and performs bag of word operation on those strings\n",
        "\n",
        "https://en.wikipedia.org/wiki/Bag-of-words_model"
      ]
    },
    {
      "cell_type": "code",
      "execution_count": 18,
      "metadata": {
        "id": "N2l1_AWULT-z"
      },
      "outputs": [],
      "source": [
        "# Write code here\n"
      ]
    },
    {
      "cell_type": "markdown",
      "metadata": {
        "id": "dHTRKb-DqMLw"
      },
      "source": [
        "###`Problem 11:` Write a Python program to add three given lists using Python map and lambda."
      ]
    },
    {
      "cell_type": "code",
      "execution_count": 19,
      "metadata": {
        "id": "NfJdzyNZqNW-"
      },
      "outputs": [
        {
          "data": {
            "text/plain": [
              "[15, 18, 21, 24]"
            ]
          },
          "execution_count": 19,
          "metadata": {},
          "output_type": "execute_result"
        }
      ],
      "source": [
        "# Write code here\n",
        "\n",
        "def addList(l1,l2,l3):\n",
        "    result = list(map(lambda x,y,z : x+y+z , l1,l2,l3))\n",
        "\n",
        "    return result\n",
        "\n",
        "list1 = [1, 2, 3, 4]\n",
        "list2 = [5, 6, 7, 8]\n",
        "list3 = [9, 10, 11, 12]\n",
        "\n",
        "addList(list1,list2,list3)"
      ]
    },
    {
      "cell_type": "markdown",
      "metadata": {
        "id": "MgHP7mbUqO8l"
      },
      "source": [
        "###`Problem-12:`Write a Python program to create a list containing the power of said number in bases raised to the corresponding number in the index using Python map.\n",
        "`Input:`\n",
        "```\n",
        "list1 = [1,2,3,4,5,6]\n",
        "```\n",
        "`Output:`\n",
        "```\n",
        "[1,2,9,64,625,-]\n",
        "```\n"
      ]
    },
    {
      "cell_type": "code",
      "execution_count": 20,
      "metadata": {
        "id": "gG3Dc6N3qbvN"
      },
      "outputs": [
        {
          "data": {
            "text/plain": [
              "[1, 4, 9, 16, 25, 36]"
            ]
          },
          "execution_count": 20,
          "metadata": {},
          "output_type": "execute_result"
        }
      ],
      "source": [
        "# Write code here\n",
        "\n",
        "def creatingPower(l):\n",
        "    ls=list(map(lambda x : x**2, l))\n",
        "    return ls\n",
        "\n",
        "l=[1,2,3,4,5,6]\n",
        "creatingPower(l)"
      ]
    },
    {
      "cell_type": "markdown",
      "metadata": {
        "id": "G26SYq6vqdLN"
      },
      "source": [
        "###`Problem-13` Using filter() and list() functions and .lower() method filter all the vowels in a given string.\n",
        "\n"
      ]
    },
    {
      "cell_type": "code",
      "execution_count": 21,
      "metadata": {
        "id": "zurga3DIqmEx"
      },
      "outputs": [
        {
          "data": {
            "text/plain": [
              "['h',\n",
              " 't',\n",
              " 't',\n",
              " 'p',\n",
              " 's',\n",
              " 'w',\n",
              " 'e',\n",
              " 'b',\n",
              " 'f',\n",
              " 'a',\n",
              " 'c',\n",
              " 'e',\n",
              " 'b',\n",
              " 'o',\n",
              " 'o',\n",
              " 'k',\n",
              " 'c',\n",
              " 'o',\n",
              " 'm',\n",
              " 'w',\n",
              " 'a',\n",
              " 't',\n",
              " 'c',\n",
              " 'h',\n",
              " 'r',\n",
              " 'e',\n",
              " 'f',\n",
              " 't',\n",
              " 'a',\n",
              " 'b']"
            ]
          },
          "execution_count": 21,
          "metadata": {},
          "output_type": "execute_result"
        }
      ],
      "source": [
        "# Write code here\n",
        "\n",
        "def filterVowel(s):\n",
        "    st=list(filter(lambda x: x.islower(), s))\n",
        "    return st\n",
        "\n",
        "s=\"https:AQER//webAQFCVA .facebookWE F.com/watQERch/?ref=WERtabW\"\n",
        "filterVowel(s)"
      ]
    },
    {
      "cell_type": "markdown",
      "metadata": {
        "id": "uQrsunZSqoYu"
      },
      "source": [
        "`Problem-14`: Use reduce to convert a 2D list to 1D"
      ]
    },
    {
      "cell_type": "code",
      "execution_count": 22,
      "metadata": {
        "id": "E1YUwnfgqnka"
      },
      "outputs": [
        {
          "name": "stdout",
          "output_type": "stream",
          "text": [
            "Original 2D list: [[1, 2, 3], [4, 5, 6], [7, 8, 9]]\n",
            "Flattened 1D list: [1, 2, 3, 4, 5, 6, 7, 8, 9]\n"
          ]
        }
      ],
      "source": [
        "# Write code here\n",
        "\n",
        "from functools import reduce\n",
        "\n",
        "# Example 2D list\n",
        "two_dim_list = [[1, 2, 3], [4, 5, 6], [7, 8, 9]]\n",
        "\n",
        "# Use reduce to flatten the 2D list into a 1D list\n",
        "one_dim_list = reduce(lambda x, y: x + y, two_dim_list)\n",
        "\n",
        "print(\"Original 2D list:\", two_dim_list)\n",
        "print(\"Flattened 1D list:\", one_dim_list)\n"
      ]
    },
    {
      "cell_type": "code",
      "execution_count": 23,
      "metadata": {},
      "outputs": [
        {
          "name": "stdout",
          "output_type": "stream",
          "text": [
            "original list at 2D :  [[1, 2, 3], [4, 5, 6], [7, 8, 9]]\n",
            "reduced list to 1D :  [1, 2, 3, 4, 5, 6, 7, 8, 9]\n"
          ]
        }
      ],
      "source": [
        "from functools import reduce\n",
        "\n",
        "def reducing2oneD(l):\n",
        "    ls=reduce(lambda x,y: x+y , l)\n",
        "    print(\"original list at 2D : \", l )\n",
        "    print(\"reduced list to 1D : \", ls)\n",
        "\n",
        "    return \n",
        "\n",
        "list2D = [[1, 2, 3], [4, 5, 6], [7, 8, 9]]\n",
        "\n",
        "reducing2oneD(list2D)"
      ]
    },
    {
      "cell_type": "markdown",
      "metadata": {
        "id": "8-DLQEawt-_t"
      },
      "source": [
        "`Problem 15`- A dictionary contains following information about 5 employees:\n",
        "- First name\n",
        "- Last name\n",
        "- Age\n",
        "- Grade(Skilled,Semi-skilled,Highly skilled)<br>\n",
        "Write a program using map/filter/reduce to a list of employees(first name + last name) who are highly skilled"
      ]
    },
    {
      "cell_type": "code",
      "execution_count": 24,
      "metadata": {
        "id": "OLvptttLs6OU"
      },
      "outputs": [],
      "source": [
        "# Write code here\n",
        "employees = [\n",
        "    {\n",
        "        'fname':'Nitish',\n",
        "        'lname':'Singh',\n",
        "        'age' : 33,\n",
        "        'grade':'skilled'\n",
        "    },\n",
        "    {\n",
        "        'fname':'Ankit',\n",
        "        'lname':'Verma',\n",
        "        'age' : 34,\n",
        "        'grade':'semi-skilled'\n",
        "    },\n",
        "    {\n",
        "        'fname':'Neha',\n",
        "        'lname':'Singh',\n",
        "        'age' : 35,\n",
        "        'grade':'highly-skilled'\n",
        "    },\n",
        "    {\n",
        "        'fname':'Anurag',\n",
        "        'lname':'Kumar',\n",
        "        'age' : 30,\n",
        "        'grade':'skilled'\n",
        "    },\n",
        "    {\n",
        "        'fname':'Abhinav',\n",
        "        'lname':'Sharma',\n",
        "        'age' : 37,\n",
        "        'grade':'highly-skilled'\n",
        "    }\n",
        "\n",
        "]"
      ]
    },
    {
      "cell_type": "code",
      "execution_count": 25,
      "metadata": {
        "colab": {
          "base_uri": "https://localhost:8080/"
        },
        "id": "vLX0FAQkui3y",
        "outputId": "e7d50543-c30e-4a20-c793-756f5a435df7"
      },
      "outputs": [
        {
          "data": {
            "text/plain": [
              "['Neha Singh', 'Abhinav Sharma']"
            ]
          },
          "execution_count": 25,
          "metadata": {},
          "output_type": "execute_result"
        }
      ],
      "source": [
        "list(map(lambda x:x['fname'] + ' ' + x['lname'],list(filter(lambda x:True if x['grade'] == 'highly-skilled' else False,employees))))"
      ]
    },
    {
      "cell_type": "code",
      "execution_count": null,
      "metadata": {
        "id": "ldMjGfkgAMr9"
      },
      "outputs": [],
      "source": []
    }
  ],
  "metadata": {
    "colab": {
      "provenance": []
    },
    "kernelspec": {
      "display_name": "Python 3",
      "name": "python3"
    },
    "language_info": {
      "codemirror_mode": {
        "name": "ipython",
        "version": 3
      },
      "file_extension": ".py",
      "mimetype": "text/x-python",
      "name": "python",
      "nbconvert_exporter": "python",
      "pygments_lexer": "ipython3",
      "version": "3.11.7"
    }
  },
  "nbformat": 4,
  "nbformat_minor": 0
}
