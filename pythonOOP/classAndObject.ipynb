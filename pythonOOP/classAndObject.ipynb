{
 "cells": [
  {
   "cell_type": "markdown",
   "metadata": {},
   "source": [
    "### Class i a blueprint which decide how object behave.\n",
    "### Object is an instance."
   ]
  },
  {
   "cell_type": "markdown",
   "metadata": {},
   "source": [
    "### syntext to create an object \n",
    "\n",
    "## objectName = className()\n",
    "\n"
   ]
  },
  {
   "cell_type": "code",
   "execution_count": 1,
   "metadata": {},
   "outputs": [],
   "source": [
    "# object literal\n",
    "\n",
    "L=[1,2,3,4]"
   ]
  },
  {
   "cell_type": "markdown",
   "metadata": {},
   "source": [
    "# ATM_MACHINE BULIDING AS EXAMPLE "
   ]
  },
  {
   "cell_type": "code",
   "execution_count": 9,
   "metadata": {},
   "outputs": [],
   "source": [
    "class Atm:\n",
    "\n",
    "    def __init__(self):\n",
    "        self.pin=0\n",
    "        self.balance=0\n",
    "        self.flag=0\n",
    "        #print(\"I just called automatically\")\n",
    "        #self.menu()\n",
    "    \n",
    "    def menu(self):\n",
    "        user_input=int(input(\"\"\" \n",
    "        Hi, how can I help you ?\n",
    "                         1. press 1 to create pin \n",
    "                         2. press 2 to change pin\n",
    "                         3. press 3 to check balance\n",
    "                         4. press 4 to withdraw\n",
    "                         5. press anything to exit\n",
    "                         \n",
    "        \n",
    "        \"\"\"))\n",
    "        if user_input==1:\n",
    "            if self.flag==1:\n",
    "                print(\"please enter you old pin \")\n",
    "                self.menu()\n",
    "            self.createPin()\n",
    "        elif user_input==2:\n",
    "            self.hangePin()\n",
    "        elif user_input==3:\n",
    "            self.showBalance()\n",
    "        elif user_input==4:\n",
    "            self.withdraw()\n",
    "            \n",
    "        else:\n",
    "            exit()\n",
    "\n",
    "    def createPin(self):\n",
    "        user_pin=input(\"enter your pin\")\n",
    "        self.pin=user_pin\n",
    "        user_balance=input(\"give your balance\")\n",
    "        self.balance=user_balance\n",
    "        self.flag=1\n",
    "        print(\"create pin successfully\")\n",
    "    \n",
    "    def changePin(self):\n",
    "        prevPin=input(\"Give your previous pin \")\n",
    "        if prevPin==self.pin:\n",
    "            currentPin=input(\"Give me your current pin\")\n",
    "            self.pin=currentPin\n",
    "        else:\n",
    "            print(\"pin is not correct , Try again !\")\n",
    "            self.menu()\n",
    "\n",
    "    def showBalace(self):\n",
    "        print(\"Your balance is : \",self.balance)\n",
    "        self.menu()\n",
    "    \n",
    "    def withdraw(self):\n",
    "\n",
    "        userPin=input(\"enter your pin\")\n",
    "        if userPin==self.pin:\n",
    "            amount=input(\"how much do you want to withdraw ?\")\n",
    "            if amount<=self.balance:\n",
    "                self.balance -=amount\n",
    "                print(\"Withdraw SuccessFull\")\n",
    "                self.menu()\n",
    "            else:\n",
    "                print(\"You have not enough balance \")\n",
    "                self.menu()\n",
    "        else:\n",
    "            print(\"pin is incorrect\")\n",
    "            self.menu()\n",
    "\n",
    "\n",
    "\n",
    "\n",
    "\n"
   ]
  },
  {
   "cell_type": "code",
   "execution_count": 10,
   "metadata": {},
   "outputs": [
    {
     "name": "stdout",
     "output_type": "stream",
     "text": [
      "0\n"
     ]
    }
   ],
   "source": [
    "obj=Atm()\n",
    "print(obj.pin)"
   ]
  },
  {
   "cell_type": "markdown",
   "metadata": {},
   "source": [
    "### Function vs Methods \n",
    "\n",
    "any function in class is calle methods "
   ]
  },
  {
   "cell_type": "code",
   "execution_count": 12,
   "metadata": {},
   "outputs": [],
   "source": [
    "L = [1,2,3]\n",
    "len(L) # function ->bcos it is outside the list class\n",
    "L.append(4)# method -> bcos it is inside the list class"
   ]
  },
  {
   "cell_type": "markdown",
   "metadata": {},
   "source": [
    "### Building own datatype of fraction"
   ]
  },
  {
   "cell_type": "code",
   "execution_count": 66,
   "metadata": {},
   "outputs": [],
   "source": [
    "class Fraction:\n",
    "\n",
    "    #parameterized constructor\n",
    "\n",
    "    def __init__(self,x,y):\n",
    "        self.num=x\n",
    "        self.den=y\n",
    "    \n",
    "    def __str__(self):\n",
    "        return '{}/{}'.format(self.num,self.den)\n",
    "    \n",
    "\n",
    "    def findGCD(self,a,b):\n",
    "        if b== 0:\n",
    "            return a\n",
    "        \n",
    "        else:\n",
    "            return self.findGCD(b,a%b)\n",
    "    \n",
    "\n",
    "    def __add__(self,other):\n",
    "\n",
    "        gcdVal=self.findGCD(self.den,other.den)\n",
    "        lcmVal=int((self.den * other.den )/gcdVal)\n",
    "        newNum1=(lcmVal/self.den)*self.num\n",
    "        newNum2=(lcmVal/other.den)*other.num\n",
    "        newNum=int(newNum1+newNum2)\n",
    "\n",
    "        return '{}/{}'.format(newNum,lcmVal)\n",
    "    \n",
    "    def __sub__(self,other):\n",
    "\n",
    "        gcdVal=self.findGCD(self.den,other.den)\n",
    "        lcmVal=int((self.den * other.den )/gcdVal)\n",
    "        newNum1=(lcmVal/self.den)*self.num\n",
    "        newNum2=(lcmVal/other.den)*other.num\n",
    "        newNum=int(newNum1-newNum2)\n",
    "\n",
    "\n",
    "        return '{}/{}'.format(newNum,lcmVal)\n",
    "    \n",
    "    def __mul__(self,other):\n",
    "        newNum=int(self.num * other.num)\n",
    "        newDen=int(self.den * other.den)\n",
    "\n",
    "        gcdVal=self.findGCD(newNum,newDen)\n",
    "\n",
    "        newDen /=gcdVal\n",
    "        newNum /=gcdVal\n",
    "\n",
    "        return '{}/{}'.format(int(newNum),int(newDen))\n",
    "    \n",
    "    def __truediv__(self,other):\n",
    "        newNum=int(self.num * other.den)\n",
    "        newDen=int(self.den * other.num)\n",
    "\n",
    "        gcdVal=self.findGCD(newNum,newDen)\n",
    "\n",
    "        newDen /=gcdVal\n",
    "        newNum /=gcdVal\n",
    "\n",
    "        return '{}/{}'.format(int(newNum),int(newDen))\n",
    "    \n",
    "    def convertToDecimal(self):\n",
    "        return self.num/self.den\n",
    "\n",
    "\n",
    "\n",
    "        "
   ]
  },
  {
   "cell_type": "code",
   "execution_count": 65,
   "metadata": {},
   "outputs": [
    {
     "name": "stdout",
     "output_type": "stream",
     "text": [
      "3/4\n"
     ]
    }
   ],
   "source": [
    "frc1=Fraction(3,4)\n",
    "\n",
    "print(frc1) # if you put obj inside the print then __str__ method automatically call"
   ]
  },
  {
   "cell_type": "code",
   "execution_count": 63,
   "metadata": {},
   "outputs": [
    {
     "name": "stdout",
     "output_type": "stream",
     "text": [
      "5/6\n"
     ]
    }
   ],
   "source": [
    "frc2=Fraction(5,6)\n",
    "print(frc2)"
   ]
  },
  {
   "cell_type": "markdown",
   "metadata": {},
   "source": [
    "### Class 02 ---\n",
    "\n",
    "### Write OOP classes to handle the following scenarios:\n",
    "\n",
    "- A user can create and view 2D coordinates\n",
    "- A user can find out the distance between 2 coordinates\n",
    "- A user can find find the distance of a coordinate from origin\n",
    "- A user can check if a point lies on a given line\n",
    "- A user can find the distance between a given 2D point and a given line"
   ]
  },
  {
   "cell_type": "code",
   "execution_count": 11,
   "metadata": {},
   "outputs": [],
   "source": [
    "class Points:\n",
    "\n",
    "    def __init__(self,x,y): # for creating the points co-ordinate\n",
    "        self.x_cod=x\n",
    "        self.y_cod=y\n",
    "\n",
    "    \n",
    "    def __str__(self): # to view the points using print\n",
    "\n",
    "        return '<{},{}>'.format(self.x_cod,self.y_cod)\n",
    "    \n",
    "    def distance_between_coordintes(self,other): # finding distance between two coordinate\n",
    "\n",
    "        return ((self.x_cod-other.x_cod)**2+(self.y_cod-other.y_cod)**2)**0.5\n",
    "    \n",
    "    def distance_from_origin(self): #finding the distance from the origin\n",
    "\n",
    "        return self.distance_between_coordintes(Points(0,0))"
   ]
  },
  {
   "cell_type": "code",
   "execution_count": 12,
   "metadata": {},
   "outputs": [
    {
     "name": "stdout",
     "output_type": "stream",
     "text": [
      "<0,0>\n"
     ]
    },
    {
     "data": {
      "text/plain": [
       "3.0"
      ]
     },
     "execution_count": 12,
     "metadata": {},
     "output_type": "execute_result"
    }
   ],
   "source": [
    "\n",
    "\n",
    "#print(Points(1,2))\n",
    "\n",
    "point1=Points(0,0)\n",
    "print(point1)\n",
    "point2=Points(3,0)\n",
    "point1.distance_between_coordintes(point2)\n",
    "\n",
    "point2.distance_from_origin()"
   ]
  },
  {
   "cell_type": "markdown",
   "metadata": {},
   "source": [
    "### Creating Line Class "
   ]
  },
  {
   "cell_type": "code",
   "execution_count": 30,
   "metadata": {},
   "outputs": [],
   "source": [
    "class Line:\n",
    "\n",
    "    def __init__(self,A,B,C):\n",
    "        self.A=A\n",
    "        self.B=B\n",
    "        self.C=C\n",
    "\n",
    "    def __str__(self):\n",
    "\n",
    "        return '{}x + {}y + {}'.format(self.A,self.B,self.C)\n",
    "    \n",
    "    def pointOnLine(self,point):\n",
    "\n",
    "        if self.A*point.x_cod + self.B * point.y_cod + self.C ==0:\n",
    "            print(\" the point is on the line\")\n",
    "        else:\n",
    "            print(\"point is not on the line\")\n",
    "\n",
    "    def shortest_distance(self,point):\n",
    "\n",
    "        return (abs(self.A*point.x_cod + self.B * point.y_cod + self.C))/((self.A)**2 + (self.B)**2)**0.5\n",
    "    \n",
    "\n",
    "    def \n"
   ]
  },
  {
   "cell_type": "code",
   "execution_count": 31,
   "metadata": {},
   "outputs": [
    {
     "name": "stdout",
     "output_type": "stream",
     "text": [
      "1x + 2y + 3\n"
     ]
    }
   ],
   "source": [
    "print(Line(1,2,3))\n"
   ]
  },
  {
   "cell_type": "code",
   "execution_count": 32,
   "metadata": {},
   "outputs": [],
   "source": [
    "line=Line(1,1,-2)"
   ]
  },
  {
   "cell_type": "code",
   "execution_count": 33,
   "metadata": {},
   "outputs": [
    {
     "name": "stdout",
     "output_type": "stream",
     "text": [
      "point is not on the line\n"
     ]
    }
   ],
   "source": [
    "line.pointOnLine(Points(1,2))"
   ]
  },
  {
   "cell_type": "code",
   "execution_count": 35,
   "metadata": {},
   "outputs": [
    {
     "data": {
      "text/plain": [
       "6.363961030678928"
      ]
     },
     "execution_count": 35,
     "metadata": {},
     "output_type": "execute_result"
    }
   ],
   "source": [
    "line.shortest_distance(Points(1,10))"
   ]
  },
  {
   "cell_type": "markdown",
   "metadata": {},
   "source": [
    "### How Object access attributes"
   ]
  },
  {
   "cell_type": "code",
   "execution_count": 46,
   "metadata": {},
   "outputs": [],
   "source": [
    "class Person:\n",
    "\n",
    "    def __init__(self,name_input,country_input):\n",
    "        self.name=name_input\n",
    "        self.country=country_input\n",
    "        self.greeting()\n",
    "\n",
    "    \n",
    "    def greeting(self):\n",
    "\n",
    "        if self.country=='india':\n",
    "            print('Namastee ',self.name)\n",
    "        else:\n",
    "            print(\"Hello \",self.name)"
   ]
  },
  {
   "cell_type": "code",
   "execution_count": 47,
   "metadata": {},
   "outputs": [
    {
     "name": "stdout",
     "output_type": "stream",
     "text": [
      "Hello  mithu\n"
     ]
    }
   ],
   "source": [
    "safaet=Person('mithu','bangladesh')"
   ]
  },
  {
   "cell_type": "code",
   "execution_count": 48,
   "metadata": {},
   "outputs": [],
   "source": [
    "safaet.gender='male'"
   ]
  },
  {
   "cell_type": "code",
   "execution_count": 49,
   "metadata": {},
   "outputs": [
    {
     "data": {
      "text/plain": [
       "'male'"
      ]
     },
     "execution_count": 49,
     "metadata": {},
     "output_type": "execute_result"
    }
   ],
   "source": [
    "safaet.gender"
   ]
  },
  {
   "cell_type": "code",
   "execution_count": null,
   "metadata": {},
   "outputs": [],
   "source": []
  }
 ],
 "metadata": {
  "kernelspec": {
   "display_name": "dataScience",
   "language": "python",
   "name": "python3"
  },
  "language_info": {
   "codemirror_mode": {
    "name": "ipython",
    "version": 3
   },
   "file_extension": ".py",
   "mimetype": "text/x-python",
   "name": "python",
   "nbconvert_exporter": "python",
   "pygments_lexer": "ipython3",
   "version": "3.11.7"
  }
 },
 "nbformat": 4,
 "nbformat_minor": 2
}
