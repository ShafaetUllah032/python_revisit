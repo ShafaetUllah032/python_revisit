{
 "cells": [
  {
   "cell_type": "markdown",
   "metadata": {},
   "source": [
    "### Class i a blueprint which decide how object behave.\n",
    "### Object is an instance."
   ]
  },
  {
   "cell_type": "markdown",
   "metadata": {},
   "source": [
    "### syntext to create an object \n",
    "\n",
    "## objectName = className()\n",
    "\n"
   ]
  },
  {
   "cell_type": "code",
   "execution_count": 51,
   "metadata": {},
   "outputs": [],
   "source": [
    "# object literal\n",
    "\n",
    "L=[1,2,3,4]"
   ]
  },
  {
   "cell_type": "markdown",
   "metadata": {},
   "source": [
    "# ATM_MACHINE BULIDING AS EXAMPLE "
   ]
  },
  {
   "cell_type": "code",
   "execution_count": 52,
   "metadata": {},
   "outputs": [],
   "source": [
    "class Atm:\n",
    "\n",
    "    def __init__(self):\n",
    "        self.pin=0\n",
    "        self.balance=0\n",
    "        self.flag=0\n",
    "        #print(\"I just called automatically\")\n",
    "        #self.menu()\n",
    "    \n",
    "    def menu(self):\n",
    "        user_input=int(input(\"\"\" \n",
    "        Hi, how can I help you ?\n",
    "                         1. press 1 to create pin \n",
    "                         2. press 2 to change pin\n",
    "                         3. press 3 to check balance\n",
    "                         4. press 4 to withdraw\n",
    "                         5. press anything to exit\n",
    "                         \n",
    "        \n",
    "        \"\"\"))\n",
    "        if user_input==1:\n",
    "            if self.flag==1:\n",
    "                print(\"please enter you old pin \")\n",
    "                self.menu()\n",
    "            self.createPin()\n",
    "        elif user_input==2:\n",
    "            self.hangePin()\n",
    "        elif user_input==3:\n",
    "            self.showBalance()\n",
    "        elif user_input==4:\n",
    "            self.withdraw()\n",
    "            \n",
    "        else:\n",
    "            exit()\n",
    "\n",
    "    def createPin(self):\n",
    "        user_pin=input(\"enter your pin\")\n",
    "        self.pin=user_pin\n",
    "        user_balance=input(\"give your balance\")\n",
    "        self.balance=user_balance\n",
    "        self.flag=1\n",
    "        print(\"create pin successfully\")\n",
    "    \n",
    "    def changePin(self):\n",
    "        prevPin=input(\"Give your previous pin \")\n",
    "        if prevPin==self.pin:\n",
    "            currentPin=input(\"Give me your current pin\")\n",
    "            self.pin=currentPin\n",
    "        else:\n",
    "            print(\"pin is not correct , Try again !\")\n",
    "            self.menu()\n",
    "\n",
    "    def showBalace(self):\n",
    "        print(\"Your balance is : \",self.balance)\n",
    "        self.menu()\n",
    "    \n",
    "    def withdraw(self):\n",
    "\n",
    "        userPin=input(\"enter your pin\")\n",
    "        if userPin==self.pin:\n",
    "            amount=input(\"how much do you want to withdraw ?\")\n",
    "            if amount<=self.balance:\n",
    "                self.balance -=amount\n",
    "                print(\"Withdraw SuccessFull\")\n",
    "                self.menu()\n",
    "            else:\n",
    "                print(\"You have not enough balance \")\n",
    "                self.menu()\n",
    "        else:\n",
    "            print(\"pin is incorrect\")\n",
    "            self.menu()\n",
    "\n",
    "\n",
    "\n",
    "\n",
    "\n"
   ]
  },
  {
   "cell_type": "code",
   "execution_count": 53,
   "metadata": {},
   "outputs": [
    {
     "name": "stdout",
     "output_type": "stream",
     "text": [
      "0\n"
     ]
    }
   ],
   "source": [
    "obj=Atm()\n",
    "print(obj.pin)"
   ]
  },
  {
   "cell_type": "markdown",
   "metadata": {},
   "source": [
    "### Function vs Methods \n",
    "\n",
    "any function in class is calle methods "
   ]
  },
  {
   "cell_type": "code",
   "execution_count": 54,
   "metadata": {},
   "outputs": [],
   "source": [
    "L = [1,2,3]\n",
    "len(L) # function ->bcos it is outside the list class\n",
    "L.append(4)# method -> bcos it is inside the list class"
   ]
  },
  {
   "cell_type": "markdown",
   "metadata": {},
   "source": [
    "### Building own datatype of fraction"
   ]
  },
  {
   "cell_type": "code",
   "execution_count": 55,
   "metadata": {},
   "outputs": [],
   "source": [
    "class Fraction:\n",
    "\n",
    "    #parameterized constructor\n",
    "\n",
    "    def __init__(self,x,y):\n",
    "        self.num=x\n",
    "        self.den=y\n",
    "    \n",
    "    def __str__(self):\n",
    "        return '{}/{}'.format(self.num,self.den)\n",
    "    \n",
    "\n",
    "    def findGCD(self,a,b):\n",
    "        if b== 0:\n",
    "            return a\n",
    "        \n",
    "        else:\n",
    "            return self.findGCD(b,a%b)\n",
    "    \n",
    "\n",
    "    def __add__(self,other):\n",
    "\n",
    "        gcdVal=self.findGCD(self.den,other.den)\n",
    "        lcmVal=int((self.den * other.den )/gcdVal)\n",
    "        newNum1=(lcmVal/self.den)*self.num\n",
    "        newNum2=(lcmVal/other.den)*other.num\n",
    "        newNum=int(newNum1+newNum2)\n",
    "\n",
    "        return '{}/{}'.format(newNum,lcmVal)\n",
    "    \n",
    "    def __sub__(self,other):\n",
    "\n",
    "        gcdVal=self.findGCD(self.den,other.den)\n",
    "        lcmVal=int((self.den * other.den )/gcdVal)\n",
    "        newNum1=(lcmVal/self.den)*self.num\n",
    "        newNum2=(lcmVal/other.den)*other.num\n",
    "        newNum=int(newNum1-newNum2)\n",
    "\n",
    "\n",
    "        return '{}/{}'.format(newNum,lcmVal)\n",
    "    \n",
    "    def __mul__(self,other):\n",
    "        newNum=int(self.num * other.num)\n",
    "        newDen=int(self.den * other.den)\n",
    "\n",
    "        gcdVal=self.findGCD(newNum,newDen)\n",
    "\n",
    "        newDen /=gcdVal\n",
    "        newNum /=gcdVal\n",
    "\n",
    "        return '{}/{}'.format(int(newNum),int(newDen))\n",
    "    \n",
    "    def __truediv__(self,other):\n",
    "        newNum=int(self.num * other.den)\n",
    "        newDen=int(self.den * other.num)\n",
    "\n",
    "        gcdVal=self.findGCD(newNum,newDen)\n",
    "\n",
    "        newDen /=gcdVal\n",
    "        newNum /=gcdVal\n",
    "\n",
    "        return '{}/{}'.format(int(newNum),int(newDen))\n",
    "    \n",
    "    def convertToDecimal(self):\n",
    "        return self.num/self.den\n",
    "\n",
    "\n",
    "\n",
    "        "
   ]
  },
  {
   "cell_type": "code",
   "execution_count": 56,
   "metadata": {},
   "outputs": [
    {
     "name": "stdout",
     "output_type": "stream",
     "text": [
      "3/4\n"
     ]
    }
   ],
   "source": [
    "frc1=Fraction(3,4)\n",
    "\n",
    "print(frc1) # if you put obj inside the print then __str__ method automatically call"
   ]
  },
  {
   "cell_type": "code",
   "execution_count": 57,
   "metadata": {},
   "outputs": [
    {
     "name": "stdout",
     "output_type": "stream",
     "text": [
      "5/6\n"
     ]
    }
   ],
   "source": [
    "frc2=Fraction(5,6)\n",
    "print(frc2)"
   ]
  },
  {
   "cell_type": "markdown",
   "metadata": {},
   "source": [
    "### Class 02 ---\n",
    "\n",
    "### Write OOP classes to handle the following scenarios:\n",
    "\n",
    "- A user can create and view 2D coordinates\n",
    "- A user can find out the distance between 2 coordinates\n",
    "- A user can find find the distance of a coordinate from origin\n",
    "- A user can check if a point lies on a given line\n",
    "- A user can find the distance between a given 2D point and a given line"
   ]
  },
  {
   "cell_type": "code",
   "execution_count": 58,
   "metadata": {},
   "outputs": [],
   "source": [
    "class Points:\n",
    "\n",
    "    def __init__(self,x,y): # for creating the points co-ordinate\n",
    "        self.x_cod=x\n",
    "        self.y_cod=y\n",
    "\n",
    "    \n",
    "    def __str__(self): # to view the points using print\n",
    "\n",
    "        return '<{},{}>'.format(self.x_cod,self.y_cod)\n",
    "    \n",
    "    def distance_between_coordintes(self,other): # finding distance between two coordinate\n",
    "\n",
    "        return ((self.x_cod-other.x_cod)**2+(self.y_cod-other.y_cod)**2)**0.5\n",
    "    \n",
    "    def distance_from_origin(self): #finding the distance from the origin\n",
    "\n",
    "        return self.distance_between_coordintes(Points(0,0))"
   ]
  },
  {
   "cell_type": "code",
   "execution_count": 59,
   "metadata": {},
   "outputs": [
    {
     "name": "stdout",
     "output_type": "stream",
     "text": [
      "<0,0>\n"
     ]
    },
    {
     "data": {
      "text/plain": [
       "3.0"
      ]
     },
     "execution_count": 59,
     "metadata": {},
     "output_type": "execute_result"
    }
   ],
   "source": [
    "\n",
    "\n",
    "#print(Points(1,2))\n",
    "\n",
    "point1=Points(0,0)\n",
    "print(point1)\n",
    "point2=Points(3,0)\n",
    "point1.distance_between_coordintes(point2)\n",
    "\n",
    "point2.distance_from_origin()"
   ]
  },
  {
   "cell_type": "markdown",
   "metadata": {},
   "source": [
    "### Creating Line Class "
   ]
  },
  {
   "cell_type": "code",
   "execution_count": 60,
   "metadata": {},
   "outputs": [
    {
     "ename": "SyntaxError",
     "evalue": "invalid syntax (3314976217.py, line 24)",
     "output_type": "error",
     "traceback": [
      "\u001b[1;36m  Cell \u001b[1;32mIn[60], line 24\u001b[1;36m\u001b[0m\n\u001b[1;33m    def\u001b[0m\n\u001b[1;37m        ^\u001b[0m\n\u001b[1;31mSyntaxError\u001b[0m\u001b[1;31m:\u001b[0m invalid syntax\n"
     ]
    }
   ],
   "source": [
    "class Line:\n",
    "\n",
    "    def __init__(self,A,B,C):\n",
    "        self.A=A\n",
    "        self.B=B\n",
    "        self.C=C\n",
    "\n",
    "    def __str__(self):\n",
    "\n",
    "        return '{}x + {}y + {}'.format(self.A,self.B,self.C)\n",
    "    \n",
    "    def pointOnLine(self,point):\n",
    "\n",
    "        if self.A*point.x_cod + self.B * point.y_cod + self.C ==0:\n",
    "            print(\" the point is on the line\")\n",
    "        else:\n",
    "            print(\"point is not on the line\")\n",
    "\n",
    "    def shortest_distance(self,point):\n",
    "\n",
    "        return (abs(self.A*point.x_cod + self.B * point.y_cod + self.C))/((self.A)**2 + (self.B)**2)**0.5\n",
    "    \n",
    "\n",
    "    def \n"
   ]
  },
  {
   "cell_type": "code",
   "execution_count": null,
   "metadata": {},
   "outputs": [
    {
     "name": "stdout",
     "output_type": "stream",
     "text": [
      "1x + 2y + 3\n"
     ]
    }
   ],
   "source": [
    "print(Line(1,2,3))\n"
   ]
  },
  {
   "cell_type": "code",
   "execution_count": null,
   "metadata": {},
   "outputs": [],
   "source": [
    "line=Line(1,1,-2)"
   ]
  },
  {
   "cell_type": "code",
   "execution_count": null,
   "metadata": {},
   "outputs": [
    {
     "name": "stdout",
     "output_type": "stream",
     "text": [
      "point is not on the line\n"
     ]
    }
   ],
   "source": [
    "line.pointOnLine(Points(1,2))"
   ]
  },
  {
   "cell_type": "code",
   "execution_count": null,
   "metadata": {},
   "outputs": [
    {
     "data": {
      "text/plain": [
       "6.363961030678928"
      ]
     },
     "execution_count": 35,
     "metadata": {},
     "output_type": "execute_result"
    }
   ],
   "source": [
    "line.shortest_distance(Points(1,10))"
   ]
  },
  {
   "cell_type": "markdown",
   "metadata": {},
   "source": [
    "### How Object access attributes"
   ]
  },
  {
   "cell_type": "code",
   "execution_count": null,
   "metadata": {},
   "outputs": [],
   "source": [
    "class Person:\n",
    "\n",
    "    def __init__(self,name_input,country_input):\n",
    "        self.name=name_input\n",
    "        self.country=country_input\n",
    "        self.greeting()\n",
    "\n",
    "    \n",
    "    def greeting(self):\n",
    "\n",
    "        if self.country=='india':\n",
    "            print('Namastee ',self.name)\n",
    "        else:\n",
    "            print(\"Hello \",self.name)"
   ]
  },
  {
   "cell_type": "code",
   "execution_count": null,
   "metadata": {},
   "outputs": [
    {
     "name": "stdout",
     "output_type": "stream",
     "text": [
      "Hello  mithu\n"
     ]
    }
   ],
   "source": [
    "safaet=Person('mithu','bangladesh')"
   ]
  },
  {
   "cell_type": "code",
   "execution_count": null,
   "metadata": {},
   "outputs": [
    {
     "data": {
      "text/plain": [
       "'male'"
      ]
     },
     "execution_count": 50,
     "metadata": {},
     "output_type": "execute_result"
    }
   ],
   "source": [
    "safaet.gender"
   ]
  },
  {
   "cell_type": "code",
   "execution_count": null,
   "metadata": {},
   "outputs": [],
   "source": [
    "safaet.gender='male'"
   ]
  },
  {
   "cell_type": "code",
   "execution_count": null,
   "metadata": {},
   "outputs": [
    {
     "data": {
      "text/plain": [
       "'male'"
      ]
     },
     "execution_count": 49,
     "metadata": {},
     "output_type": "execute_result"
    }
   ],
   "source": [
    "safaet.gender"
   ]
  },
  {
   "cell_type": "markdown",
   "metadata": {},
   "source": [
    "### Reference Variables\n",
    "\n",
    "- Reference variables hold the objects\n",
    "- We can create objects without reference variable as well\n",
    "- An object can have multiple reference variables\n",
    "- Assigning a new reference variable to an existing object does not create a new object"
   ]
  },
  {
   "cell_type": "code",
   "execution_count": 62,
   "metadata": {},
   "outputs": [
    {
     "data": {
      "text/plain": [
       "<__main__.human at 0x24efa011910>"
      ]
     },
     "execution_count": 62,
     "metadata": {},
     "output_type": "execute_result"
    }
   ],
   "source": [
    "#obejct without a referance\n",
    "\n",
    "class human:\n",
    "\n",
    "    def __init__(self):\n",
    "        self.name='Titu'\n",
    "        self.gender='male'\n",
    "\n",
    "    \n",
    "human()"
   ]
  },
  {
   "cell_type": "code",
   "execution_count": 63,
   "metadata": {},
   "outputs": [],
   "source": [
    "p=human()\n",
    "q=p"
   ]
  },
  {
   "cell_type": "code",
   "execution_count": 64,
   "metadata": {},
   "outputs": [
    {
     "name": "stdout",
     "output_type": "stream",
     "text": [
      "2538225078672\n",
      "2538225078672\n"
     ]
    }
   ],
   "source": [
    "print(id(p))\n",
    "print(id(q))"
   ]
  },
  {
   "cell_type": "code",
   "execution_count": 65,
   "metadata": {},
   "outputs": [
    {
     "name": "stdout",
     "output_type": "stream",
     "text": [
      "Titu\n",
      "Titu\n",
      "safaet\n",
      "safaet\n"
     ]
    }
   ],
   "source": [
    "# change attribute value with the help of 2nd object\n",
    "\n",
    "print(p.name)\n",
    "print(q.name)\n",
    "q.name = 'safaet'\n",
    "print(q.name)\n",
    "print(p.name)"
   ]
  },
  {
   "cell_type": "markdown",
   "metadata": {},
   "source": [
    "### pass by referance"
   ]
  },
  {
   "cell_type": "code",
   "execution_count": 66,
   "metadata": {},
   "outputs": [
    {
     "name": "stdout",
     "output_type": "stream",
     "text": [
      "Hi my name is Titu and I am a male\n",
      "safaet\n",
      "male\n"
     ]
    }
   ],
   "source": [
    "class Person:\n",
    "\n",
    "  def __init__(self,name,gender):\n",
    "    self.name = name\n",
    "    self.gender = gender\n",
    "\n",
    "# outside the class -> function\n",
    "def greet(person): #send obejct a parameter which contains all the atributes of the object\n",
    "  print('Hi my name is',person.name,'and I am a',person.gender)\n",
    "  p1 = Person('safaet','male')\n",
    "  return p1\n",
    "\n",
    "p = Person('Titu','male')\n",
    "x = greet(p)\n",
    "print(x.name)\n",
    "print(x.gender)"
   ]
  },
  {
   "cell_type": "code",
   "execution_count": 69,
   "metadata": {},
   "outputs": [
    {
     "name": "stdout",
     "output_type": "stream",
     "text": [
      "2538225096336\n",
      "2538225096336\n",
      "Titu\n",
      "Titu\n"
     ]
    }
   ],
   "source": [
    "class Person:\n",
    "\n",
    "  def __init__(self,name,gender):\n",
    "    self.name = name\n",
    "    self.gender = gender\n",
    "\n",
    "# outside the class -> function\n",
    "def greet(person):\n",
    "  print(id(person))\n",
    "  person.name = 'Titu'\n",
    "  print(person.name)\n",
    "\n",
    "p = Person('Safaet ','male')\n",
    "print(id(p))\n",
    "greet(p)\n",
    "print(p.name)\n"
   ]
  },
  {
   "cell_type": "markdown",
   "metadata": {},
   "source": [
    "### immutability of an Object "
   ]
  },
  {
   "cell_type": "code",
   "execution_count": 70,
   "metadata": {},
   "outputs": [
    {
     "name": "stdout",
     "output_type": "stream",
     "text": [
      "2538210778448\n",
      "2538210778448\n"
     ]
    }
   ],
   "source": [
    "class Person:\n",
    "\n",
    "  def __init__(self,name,gender):\n",
    "    self.name = name\n",
    "    self.gender = gender\n",
    "\n",
    "# outside the class -> function\n",
    "def greet(person):\n",
    "  person.name = 'Titu'\n",
    "  return person\n",
    "\n",
    "p = Person('Safaet ','male')\n",
    "print(id(p))\n",
    "p1 = greet(p)\n",
    "print(id(p1))"
   ]
  },
  {
   "cell_type": "markdown",
   "metadata": {},
   "source": [
    "# Encapsulation"
   ]
  },
  {
   "cell_type": "code",
   "execution_count": 1,
   "metadata": {},
   "outputs": [],
   "source": [
    "class AtmMachine:\n",
    "\n",
    "    def __init__(self):\n",
    "        self.__pin=0\n",
    "        self.__balance=0\n",
    "        self.flag=0\n",
    "        #print(\"I just called automatically\")\n",
    "        self.menu()\n",
    "\n",
    "    def get_balance(self):\n",
    "        return self.__balance\n",
    "\n",
    "    def set_balance(self,new_value):\n",
    "        if type(new_value) == int:\n",
    "            self.__balance = new_value\n",
    "        else:\n",
    "            print('মাইর চিনস ?')\n",
    "\n",
    "    \n",
    "    def menu(self):\n",
    "        user_input=int(input(\"\"\" \n",
    "        Hi, how can I help you ?\n",
    "                         1. press 1 to create pin \n",
    "                         2. press 2 to change pin\n",
    "                         3. press 3 to check balance\n",
    "                         4. press 4 to withdraw\n",
    "                         5. press anything to exit\n",
    "                         \n",
    "        \n",
    "        \"\"\"))\n",
    "        if user_input==1:\n",
    "            if self.flag==1:\n",
    "                print(\"please enter you old pin \")\n",
    "                self.menu()\n",
    "            self.createPin()\n",
    "        elif user_input==2:\n",
    "            self.hangePin()\n",
    "        elif user_input==3:\n",
    "            self.showBalance()\n",
    "        elif user_input==4:\n",
    "            self.withdraw() \n",
    "        else:\n",
    "            print(\"thx for using ATM _ Machine\")\n",
    "            exit()\n",
    "\n",
    "    def createPin(self):\n",
    "\n",
    "        if self.flag==0:\n",
    "            user_pin=input(\"enter your pin\")\n",
    "            self.__pin=user_pin\n",
    "            user_balance=int(input(\"give your balance\"))\n",
    "            self.__balance=user_balance\n",
    "            self.flag=1\n",
    "            print(\"create pin successfully\")\n",
    "        else :\n",
    "            print(\"\"\"\n",
    "\n",
    "                     we have already create a pin , so please enter your old pin . \n",
    "\"\"\")\n",
    "        \n",
    "        self.menu()\n",
    "\n",
    "    \n",
    "    def changePin(self):\n",
    "        prevPin=input(\"Give your previous pin \")\n",
    "        if prevPin==self.__pin:\n",
    "            currentPin=input(\"Give me your current pin\")\n",
    "            self.__pin=currentPin\n",
    "        else:\n",
    "            print(\"pin is not correct , Try again !\")\n",
    "            self.menu()\n",
    "\n",
    "    def showBalace(self):\n",
    "        print(\"Your balance is : \",self.__balance)\n",
    "        self.menu()\n",
    "    \n",
    "    def withdraw(self):\n",
    "\n",
    "        userPin=input(\"enter your pin\")\n",
    "        if userPin==self.__pin:\n",
    "            amount=int(input(\"how much do you want to withdraw ?\"))\n",
    "            if amount<=self.__balance:\n",
    "                self.__balance -=amount\n",
    "                print(\"Withdraw SuccessFull\")\n",
    "                #self.showBalace()\n",
    "                print(\"Your current Balanace is : \", self.__balance)\n",
    "                self.menu()\n",
    "            else:\n",
    "                print(\"You have not enough balance \")\n",
    "                self.menu()\n",
    "        else:\n",
    "            print(\"pin is incorrect\")\n",
    "            self.menu()\n",
    "\n",
    "\n",
    "\n",
    "\n",
    "\n"
   ]
  },
  {
   "cell_type": "code",
   "execution_count": 85,
   "metadata": {},
   "outputs": [],
   "source": [
    "mchine1=AtmMachine()"
   ]
  },
  {
   "cell_type": "code",
   "execution_count": 2,
   "metadata": {},
   "outputs": [],
   "source": [
    "# instance var -> python tutor\n",
    "class Person:\n",
    "\n",
    "  def __init__(self,name_input,country_input):\n",
    "    self.name = name_input\n",
    "    self.country = country_input\n",
    "\n",
    "p1 = Person('nitish','india')\n",
    "p2 = Person('steve','australia')"
   ]
  },
  {
   "cell_type": "markdown",
   "metadata": {},
   "source": [
    "### Collection Of Objects"
   ]
  },
  {
   "cell_type": "code",
   "execution_count": 3,
   "metadata": {},
   "outputs": [
    {
     "name": "stdout",
     "output_type": "stream",
     "text": [
      "nitish male\n",
      "ankit male\n",
      "ankita female\n"
     ]
    }
   ],
   "source": [
    "# list of objects\n",
    "class Person:\n",
    "\n",
    "  def __init__(self,name,gender):\n",
    "    self.name = name\n",
    "    self.gender = gender\n",
    "\n",
    "p1 = Person('nitish','male')\n",
    "p2 = Person('ankit','male')\n",
    "p3 = Person('ankita','female')\n",
    "\n",
    "L = [p1,p2,p3]\n",
    "\n",
    "for i in L:\n",
    "  print(i.name,i.gender)"
   ]
  },
  {
   "cell_type": "code",
   "execution_count": 4,
   "metadata": {},
   "outputs": [
    {
     "name": "stdout",
     "output_type": "stream",
     "text": [
      "male\n",
      "male\n",
      "female\n"
     ]
    }
   ],
   "source": [
    "# dict of objects\n",
    "# list of objects\n",
    "class Person:\n",
    "\n",
    "  def __init__(self,name,gender):\n",
    "    self.name = name\n",
    "    self.gender = gender\n",
    "\n",
    "p1 = Person('nitish','male')\n",
    "p2 = Person('ankit','male')\n",
    "p3 = Person('ankita','female')\n",
    "\n",
    "d = {'p1':p1,'p2':p2,'p3':p3}\n",
    "\n",
    "for i in d:\n",
    "  print(d[i].gender)"
   ]
  },
  {
   "cell_type": "markdown",
   "metadata": {},
   "source": [
    "### Static Variables Vs Instance variables"
   ]
  },
  {
   "cell_type": "code",
   "execution_count": 13,
   "metadata": {},
   "outputs": [],
   "source": [
    "class Atm_A:\n",
    "\n",
    "  __counter = 1\n",
    "\n",
    "  # constructor(special function)->superpower -> \n",
    "  def __init__(self):\n",
    "    print(id(self))\n",
    "    self.pin = ''\n",
    "    self.__balance = 0\n",
    "    self.cid = Atm_A.__counter\n",
    "    Atm_A.__counter = Atm_A.__counter + 1\n",
    "    #self.menu()\n",
    "\n",
    "  # utility functions\n",
    "  @staticmethod\n",
    "  def get_counter():\n",
    "    return Atm_A.__counter\n",
    "\n",
    "\n",
    "  def get_balance(self):\n",
    "    return self.__balance\n",
    "\n",
    "  def set_balance(self,new_value):\n",
    "    if type(new_value) == int:\n",
    "      self.__balance = new_value\n",
    "    else:\n",
    "      print('beta bahot maarenge')\n",
    "\n",
    "  def __menu(self):\n",
    "    user_input = input(\"\"\"\n",
    "    Hi how can I help you?\n",
    "    1. Press 1 to create pin\n",
    "    2. Press 2 to change pin\n",
    "    3. Press 3 to check balance\n",
    "    4. Press 4 to withdraw\n",
    "    5. Anything else to exit\n",
    "    \"\"\")\n",
    "\n",
    "    if user_input == '1':\n",
    "      self.create_pin()\n",
    "    elif user_input == '2':\n",
    "      self.change_pin()\n",
    "    elif user_input == '3':\n",
    "      self.check_balance()\n",
    "    elif user_input == '4':\n",
    "      self.withdraw()\n",
    "    else:\n",
    "      exit()\n",
    "\n",
    "  def create_pin(self):\n",
    "    user_pin = input('enter your pin')\n",
    "    self.pin = user_pin\n",
    "\n",
    "    user_balance = int(input('enter balance'))\n",
    "    self.__balance = user_balance\n",
    "\n",
    "    print('pin created successfully')\n",
    "\n",
    "  def change_pin(self):\n",
    "    old_pin = input('enter old pin')\n",
    "\n",
    "    if old_pin == self.pin:\n",
    "      # let him change the pin\n",
    "      new_pin = input('enter new pin')\n",
    "      self.pin = new_pin\n",
    "      print('pin change successful')\n",
    "    else:\n",
    "      print('nai karne de sakta re baba')\n",
    "\n",
    "  def check_balance(self):\n",
    "    user_pin = input('enter your pin')\n",
    "    if user_pin == self.pin:\n",
    "      print('your balance is ',self.__balance)\n",
    "    else:\n",
    "      print('chal nikal yahan se')\n",
    "\n",
    "  def withdraw(self):\n",
    "    user_pin = input('enter the pin')\n",
    "    if user_pin == self.pin:\n",
    "      # allow to withdraw\n",
    "      amount = int(input('enter the amount'))\n",
    "      if amount <= self.__balance:\n",
    "        self.__balance = self.__balance - amount\n",
    "        print('withdrawl successful.balance is',self.__balance)\n",
    "      else:\n",
    "        print('abe garib')\n",
    "    else:\n",
    "      print('sale chor')"
   ]
  },
  {
   "cell_type": "code",
   "execution_count": 14,
   "metadata": {},
   "outputs": [
    {
     "name": "stdout",
     "output_type": "stream",
     "text": [
      "2037606141136\n"
     ]
    }
   ],
   "source": [
    "c1=Atm_A()"
   ]
  },
  {
   "cell_type": "code",
   "execution_count": 16,
   "metadata": {},
   "outputs": [
    {
     "name": "stdout",
     "output_type": "stream",
     "text": [
      "2037606287824\n"
     ]
    }
   ],
   "source": [
    "c2=Atm_A()"
   ]
  },
  {
   "cell_type": "code",
   "execution_count": 17,
   "metadata": {},
   "outputs": [
    {
     "data": {
      "text/plain": [
       "1"
      ]
     },
     "execution_count": 17,
     "metadata": {},
     "output_type": "execute_result"
    }
   ],
   "source": [
    "c1.cid"
   ]
  },
  {
   "cell_type": "code",
   "execution_count": 18,
   "metadata": {},
   "outputs": [
    {
     "data": {
      "text/plain": [
       "2"
      ]
     },
     "execution_count": 18,
     "metadata": {},
     "output_type": "execute_result"
    }
   ],
   "source": [
    "c2.cid"
   ]
  },
  {
   "cell_type": "code",
   "execution_count": 21,
   "metadata": {},
   "outputs": [
    {
     "data": {
      "text/plain": [
       "3"
      ]
     },
     "execution_count": 21,
     "metadata": {},
     "output_type": "execute_result"
    }
   ],
   "source": [
    "Atm_A.get_counter()"
   ]
  },
  {
   "cell_type": "markdown",
   "metadata": {},
   "source": [
    "##### Points to remember about static\n",
    "\n",
    "- Static attributes are created at class level.\n",
    "- Static attributes are accessed using ClassName.\n",
    "- Static attributes are object independent. We can access them without creating instance (object) of the class in which they are defined.\n",
    "- The value stored in static attribute is shared between all instances(objects) of the class in which the static attribute is defined."
   ]
  },
  {
   "cell_type": "code",
   "execution_count": 20,
   "metadata": {},
   "outputs": [
    {
     "name": "stdout",
     "output_type": "stream",
     "text": [
      "Simba drinks water from the well in the circus\n",
      "Water source of lions: well in the circus\n"
     ]
    }
   ],
   "source": [
    "class Lion:\n",
    "  __water_source=\"well in the circus\"\n",
    "\n",
    "  def __init__(self,name, gender):\n",
    "      self.__name=name\n",
    "      self.__gender=gender\n",
    "\n",
    "  def drinks_water(self):\n",
    "      print(self.__name,\n",
    "      \"drinks water from the\",Lion.__water_source)\n",
    "\n",
    "  @staticmethod\n",
    "  def get_water_source():\n",
    "      return Lion.__water_source\n",
    "\n",
    "simba=Lion(\"Simba\",\"Male\")\n",
    "simba.drinks_water()\n",
    "print( \"Water source of lions:\",Lion.get_water_source())"
   ]
  },
  {
   "cell_type": "markdown",
   "metadata": {},
   "source": [
    "# Inheritance and Polymorphism"
   ]
  },
  {
   "cell_type": "markdown",
   "metadata": {},
   "source": [
    "### Class Relationships\n",
    "\n",
    "while buliding project we have to create lots of classes and those classes interact among themselves creating relationship \n",
    "\n",
    "- Aggregation\n",
    "- Inheritance"
   ]
  },
  {
   "cell_type": "markdown",
   "metadata": {},
   "source": [
    "### Aggregation -> Has a relationship\n",
    "\n",
    "- one class owns the other class \n",
    "- one class is owner and other class is property"
   ]
  },
  {
   "cell_type": "code",
   "execution_count": 53,
   "metadata": {},
   "outputs": [],
   "source": [
    "class Customer:\n",
    "    \n",
    "    def __init__(self,name,gender,address):\n",
    "\n",
    "        self.name=name\n",
    "        self.gender=gender\n",
    "        self.address=address\n",
    "        self.printAddress()\n",
    "\n",
    "    def printAddress(self):\n",
    "        \n",
    "        print(self.name,self.gender,self.address.city,self.address.state,self.address.getPin())\n",
    "\n",
    "    \n",
    "    def editProfile(self,Nname,Ncity,Nstate,Npin):\n",
    "\n",
    "        self.name=Nname\n",
    "        self.address.editAddress(Ncity,Nstate,Npin)\n",
    "        self.printAddress()\n",
    "\n",
    "\n",
    "class Address:\n",
    "\n",
    "    def __init__(self,city,state,pin):\n",
    "\n",
    "        self.city=city\n",
    "        self.state=state\n",
    "        self.__pin=pin\n",
    "    \n",
    "    def getPin(self):\n",
    "        return self.__pin\n",
    "    \n",
    "\n",
    "    def editAddress(self,Ncity,Nstate,Npin):\n",
    "        self.city=Ncity\n",
    "        self.state=Nstate\n",
    "        self.__pin=Npin\n",
    "\n",
    "\n",
    "\n"
   ]
  },
  {
   "cell_type": "code",
   "execution_count": 54,
   "metadata": {},
   "outputs": [
    {
     "name": "stdout",
     "output_type": "stream",
     "text": [
      "safaet male varsity sylhet 1234\n"
     ]
    }
   ],
   "source": [
    "add1=Address('varsity','sylhet',1234)\n",
    "\n",
    "cust=Customer('safaet','male',add1)"
   ]
  },
  {
   "cell_type": "code",
   "execution_count": 55,
   "metadata": {},
   "outputs": [
    {
     "name": "stdout",
     "output_type": "stream",
     "text": [
      "Titu male chattagram brahmanbaria 10321\n"
     ]
    }
   ],
   "source": [
    "cust.editProfile('Titu','chattagram','brahmanbaria',10321)"
   ]
  },
  {
   "cell_type": "code",
   "execution_count": 52,
   "metadata": {},
   "outputs": [
    {
     "name": "stdout",
     "output_type": "stream",
     "text": [
      "Titu male chattagram brahmanbaria 10321\n"
     ]
    }
   ],
   "source": [
    "#cust.printAddress()"
   ]
  },
  {
   "attachments": {
    "aggregate-uml2.gif": {
     "image/gif": "[encoded data removed]"
    }
   },
   "cell_type": "markdown",
   "metadata": {},
   "source": [
    "### aggregation class diagram\n",
    "\n",
    "![aggregate-uml2.gif](attachment:aggregate-uml2.gif)"
   ]
  },
  {
   "cell_type": "markdown",
   "metadata": {},
   "source": [
    "# Inheritance\n",
    "\n",
    "- What is inheritance\n",
    "- Example\n",
    "- What gets inherited?"
   ]
  },
  {
   "cell_type": "code",
   "execution_count": 64,
   "metadata": {},
   "outputs": [
    {
     "name": "stdout",
     "output_type": "stream",
     "text": [
      "Safaet\n",
      "login\n",
      "enroll into the course\n"
     ]
    }
   ],
   "source": [
    "# Example\n",
    "\n",
    "# parent\n",
    "class User:\n",
    "\n",
    "  def __init__(self):\n",
    "    self.name = 'Safaet'\n",
    "    self.gender = 'male'\n",
    "\n",
    "  def login(self):\n",
    "    print('login')\n",
    "\n",
    "# child\n",
    "class Student(User):\n",
    "\n",
    "  def enroll(self):\n",
    "    print('enroll into the course')\n",
    "\n",
    "u = User()\n",
    "s = Student()\n",
    "\n",
    "print(s.name)\n",
    "s.login()\n",
    "s.enroll()"
   ]
  },
  {
   "cell_type": "code",
   "execution_count": 65,
   "metadata": {},
   "outputs": [
    {
     "name": "stdout",
     "output_type": "stream",
     "text": [
      "Safaet\n"
     ]
    }
   ],
   "source": [
    "print(s.name)"
   ]
  },
  {
   "cell_type": "markdown",
   "metadata": {},
   "source": [
    "##### What gets inherited?\n",
    "\n",
    "- Constructor\n",
    "- Non Private Attributes\n",
    "- Non Private Methods"
   ]
  },
  {
   "cell_type": "code",
   "execution_count": 69,
   "metadata": {},
   "outputs": [],
   "source": [
    "#construction example \n",
    "\n",
    "# As child class not having any constructor so it's directly call the parent's constructor\n",
    "\n",
    "class Phone:\n",
    "\n",
    "    def __init__(self,price,brand,camera):\n",
    "        print(\"inside phone constuctor\")\n",
    "        self.price =price\n",
    "        self.brand=brand\n",
    "        self.camera=camera\n",
    "    \n",
    "    def buy(self):\n",
    "        print(\"Buying a phone\")\n",
    "\n",
    "    \n",
    "class Smartphone(Phone):\n",
    "    pass\n"
   ]
  },
  {
   "cell_type": "code",
   "execution_count": 70,
   "metadata": {},
   "outputs": [
    {
     "name": "stdout",
     "output_type": "stream",
     "text": [
      "inside phone constuctor\n",
      "Buying a phone\n"
     ]
    }
   ],
   "source": [
    "s=Smartphone(2000,\"Apple\",13)\n",
    "s.buy()"
   ]
  },
  {
   "cell_type": "code",
   "execution_count": 71,
   "metadata": {},
   "outputs": [],
   "source": [
    "#construtor example\n",
    "\n",
    "class Phone:\n",
    "\n",
    "    def __init__(self,price,brand,camera):\n",
    "\n",
    "        print(\"inside the phone class\")\n",
    "        self.__price=price\n",
    "        self.brand=brand\n",
    "        self.camera=camera\n",
    "\n",
    "\n",
    "class Smartphone(Phone):\n",
    "\n",
    "    def __init__(self,os,ram):\n",
    "        self.os=os\n",
    "        self.ram=ram\n",
    "        print(\"inside SmartPhone constructor\")\n",
    "        "
   ]
  },
  {
   "cell_type": "code",
   "execution_count": 74,
   "metadata": {},
   "outputs": [
    {
     "name": "stdout",
     "output_type": "stream",
     "text": [
      "inside SmartPhone constructor\n"
     ]
    }
   ],
   "source": [
    "s=Smartphone('mac',2)"
   ]
  },
  {
   "cell_type": "code",
   "execution_count": 75,
   "metadata": {},
   "outputs": [
    {
     "ename": "TypeError",
     "evalue": "Smartphone.__init__() takes 3 positional arguments but 4 were given",
     "output_type": "error",
     "traceback": [
      "\u001b[1;31m---------------------------------------------------------------------------\u001b[0m",
      "\u001b[1;31mTypeError\u001b[0m                                 Traceback (most recent call last)",
      "Cell \u001b[1;32mIn[75], line 1\u001b[0m\n\u001b[1;32m----> 1\u001b[0m p\u001b[38;5;241m=\u001b[39mSmartphone(\u001b[38;5;241m1000\u001b[39m,\u001b[38;5;124m'\u001b[39m\u001b[38;5;124mnokia\u001b[39m\u001b[38;5;124m'\u001b[39m,\u001b[38;5;241m120\u001b[39m)\n",
      "\u001b[1;31mTypeError\u001b[0m: Smartphone.__init__() takes 3 positional arguments but 4 were given"
     ]
    }
   ],
   "source": [
    "p=Smartphone(1000,'nokia',120) "
   ]
  },
  {
   "cell_type": "code",
   "execution_count": 76,
   "metadata": {},
   "outputs": [
    {
     "ename": "AttributeError",
     "evalue": "'Smartphone' object has no attribute 'brand'",
     "output_type": "error",
     "traceback": [
      "\u001b[1;31m---------------------------------------------------------------------------\u001b[0m",
      "\u001b[1;31mAttributeError\u001b[0m                            Traceback (most recent call last)",
      "Cell \u001b[1;32mIn[76], line 1\u001b[0m\n\u001b[1;32m----> 1\u001b[0m s\u001b[38;5;241m.\u001b[39mbrand\n",
      "\u001b[1;31mAttributeError\u001b[0m: 'Smartphone' object has no attribute 'brand'"
     ]
    }
   ],
   "source": [
    "s.brand"
   ]
  },
  {
   "cell_type": "code",
   "execution_count": 88,
   "metadata": {},
   "outputs": [],
   "source": [
    "#child can't access the private member of the class\n",
    "\n",
    "class Phone:\n",
    "\n",
    "    def __init__(self,price,brand,camera):\n",
    "        self.__price=camera\n",
    "        self.brand=brand\n",
    "        self.camera=camera\n",
    "\n",
    "    def getPrice(self):\n",
    "        print(self.__price)\n",
    "\n",
    "    \n",
    "class Smartphone(Phone):\n",
    "    def check(self):\n",
    "        print(self._Phone__price)"
   ]
  },
  {
   "cell_type": "code",
   "execution_count": 89,
   "metadata": {},
   "outputs": [],
   "source": [
    "s=Smartphone(2000,'Apple',13)"
   ]
  },
  {
   "cell_type": "code",
   "execution_count": 90,
   "metadata": {},
   "outputs": [
    {
     "name": "stdout",
     "output_type": "stream",
     "text": [
      "13\n"
     ]
    }
   ],
   "source": [
    "s.getPrice()"
   ]
  },
  {
   "cell_type": "code",
   "execution_count": 92,
   "metadata": {},
   "outputs": [
    {
     "name": "stdout",
     "output_type": "stream",
     "text": [
      "13\n"
     ]
    }
   ],
   "source": [
    "s.check() # To access the private property I  have to use the format of class and attribute"
   ]
  },
  {
   "cell_type": "code",
   "execution_count": 93,
   "metadata": {},
   "outputs": [
    {
     "name": "stdout",
     "output_type": "stream",
     "text": [
      "100\n",
      "This is in child class\n"
     ]
    }
   ],
   "source": [
    "class Parent:\n",
    "\n",
    "    def __init__(self,num):\n",
    "        self.__num=num\n",
    "\n",
    "    def get_num(self):\n",
    "        return self.__num\n",
    "\n",
    "class Child(Parent):\n",
    "\n",
    "    def show(self):\n",
    "        print(\"This is in child class\")\n",
    "        \n",
    "son=Child(100)\n",
    "print(son.get_num())\n",
    "son.show()"
   ]
  },
  {
   "cell_type": "code",
   "execution_count": 94,
   "metadata": {},
   "outputs": [
    {
     "ename": "AttributeError",
     "evalue": "'Child' object has no attribute '_Parent__num'",
     "output_type": "error",
     "traceback": [
      "\u001b[1;31m---------------------------------------------------------------------------\u001b[0m",
      "\u001b[1;31mAttributeError\u001b[0m                            Traceback (most recent call last)",
      "Cell \u001b[1;32mIn[94], line 18\u001b[0m\n\u001b[0;32m     15\u001b[0m         \u001b[38;5;28;01mreturn\u001b[39;00m \u001b[38;5;28mself\u001b[39m\u001b[38;5;241m.\u001b[39m__val\n\u001b[0;32m     17\u001b[0m son\u001b[38;5;241m=\u001b[39mChild(\u001b[38;5;241m100\u001b[39m,\u001b[38;5;241m10\u001b[39m)\n\u001b[1;32m---> 18\u001b[0m \u001b[38;5;28mprint\u001b[39m(\u001b[38;5;124m\"\u001b[39m\u001b[38;5;124mParent: Num:\u001b[39m\u001b[38;5;124m\"\u001b[39m,son\u001b[38;5;241m.\u001b[39mget_num())\n\u001b[0;32m     19\u001b[0m \u001b[38;5;28mprint\u001b[39m(\u001b[38;5;124m\"\u001b[39m\u001b[38;5;124mChild: Val:\u001b[39m\u001b[38;5;124m\"\u001b[39m,son\u001b[38;5;241m.\u001b[39mget_val())\n",
      "Cell \u001b[1;32mIn[94], line 7\u001b[0m, in \u001b[0;36mParent.get_num\u001b[1;34m(self)\u001b[0m\n\u001b[0;32m      6\u001b[0m \u001b[38;5;28;01mdef\u001b[39;00m \u001b[38;5;21mget_num\u001b[39m(\u001b[38;5;28mself\u001b[39m):\n\u001b[1;32m----> 7\u001b[0m     \u001b[38;5;28;01mreturn\u001b[39;00m \u001b[38;5;28mself\u001b[39m\u001b[38;5;241m.\u001b[39m__num\n",
      "\u001b[1;31mAttributeError\u001b[0m: 'Child' object has no attribute '_Parent__num'"
     ]
    }
   ],
   "source": [
    "class Parent:\n",
    "\n",
    "    def __init__(self,num):\n",
    "        self.__num=num\n",
    "\n",
    "    def get_num(self):\n",
    "        return self.__num\n",
    "\n",
    "class Child(Parent):\n",
    "\n",
    "    def __init__(self,val,num):\n",
    "        self.__val=val\n",
    "\n",
    "    def get_val(self):\n",
    "        return self.__val\n",
    "        \n",
    "son=Child(100,10)\n",
    "print(\"Parent: Num:\",son.get_num())\n",
    "print(\"Child: Val:\",son.get_val())"
   ]
  },
  {
   "cell_type": "code",
   "execution_count": 96,
   "metadata": {},
   "outputs": [
    {
     "name": "stdout",
     "output_type": "stream",
     "text": [
      "class A : 100\n"
     ]
    }
   ],
   "source": [
    "class A:\n",
    "    def __init__(self):\n",
    "        self.var1=100\n",
    "\n",
    "    def display1(self,var1):\n",
    "        print(\"class A :\", self.var1)\n",
    "class B(A):\n",
    "  \n",
    "    def display2(self,var1):\n",
    "        print(\"class B :\", self.var1)\n",
    "\n",
    "obj=B()\n",
    "obj.display1(200)"
   ]
  },
  {
   "cell_type": "code",
   "execution_count": 97,
   "metadata": {},
   "outputs": [
    {
     "name": "stdout",
     "output_type": "stream",
     "text": [
      "Inside phone constructor\n",
      "Buying a smartphone\n"
     ]
    }
   ],
   "source": [
    "# Method Overriding\n",
    "\n",
    "\n",
    "class Phone:\n",
    "    def __init__(self, price, brand, camera):\n",
    "        print (\"Inside phone constructor\")\n",
    "        self.__price = price\n",
    "        self.brand = brand\n",
    "        self.camera = camera\n",
    "\n",
    "    def buy(self):\n",
    "        print (\"Buying a phone\")\n",
    "\n",
    "class SmartPhone(Phone):\n",
    "    def buy(self):\n",
    "        print (\"Buying a smartphone\")\n",
    "\n",
    "s=SmartPhone(20000, \"Apple\", 13)\n",
    "\n",
    "s.buy()"
   ]
  },
  {
   "cell_type": "markdown",
   "metadata": {},
   "source": [
    "### Super KeyWord "
   ]
  },
  {
   "cell_type": "code",
   "execution_count": 98,
   "metadata": {},
   "outputs": [],
   "source": [
    "class Phone:\n",
    "\n",
    "    def __init__(self,price,brand,camera):\n",
    "        print(\"inside the phone constructor\")\n",
    "        self.__price=price\n",
    "        self.brand=brand\n",
    "        self.camera=camera\n",
    "\n",
    "    def buy(self):\n",
    "        print(\"buying a phone\")\n",
    "    \n",
    "\n",
    "class Smartphone(Phone):\n",
    "\n",
    "    def buy(self):\n",
    "        print(\"buy one smartphone\")\n",
    "\n",
    "        # synstex to call parent's buy method \n",
    "\n",
    "        super().buy()"
   ]
  },
  {
   "cell_type": "code",
   "execution_count": 99,
   "metadata": {},
   "outputs": [
    {
     "name": "stdout",
     "output_type": "stream",
     "text": [
      "Inside phone constructor\n",
      "Buying a smartphone\n"
     ]
    }
   ],
   "source": [
    "s=SmartPhone(20000, \"Apple\", 13)\n",
    "\n",
    "s.buy()"
   ]
  },
  {
   "cell_type": "code",
   "execution_count": 101,
   "metadata": {},
   "outputs": [
    {
     "name": "stdout",
     "output_type": "stream",
     "text": [
      "Inside phone constructor\n"
     ]
    },
    {
     "ename": "RuntimeError",
     "evalue": "super(): no arguments",
     "output_type": "error",
     "traceback": [
      "\u001b[1;31m---------------------------------------------------------------------------\u001b[0m",
      "\u001b[1;31mRuntimeError\u001b[0m                              Traceback (most recent call last)",
      "Cell \u001b[1;32mIn[101], line 19\u001b[0m\n\u001b[0;32m     15\u001b[0m         \u001b[38;5;66;03m# syntax to call parent ka buy method\u001b[39;00m\n\u001b[0;32m     17\u001b[0m s\u001b[38;5;241m=\u001b[39mSmartPhone(\u001b[38;5;241m20000\u001b[39m, \u001b[38;5;124m\"\u001b[39m\u001b[38;5;124mApple\u001b[39m\u001b[38;5;124m\"\u001b[39m, \u001b[38;5;241m13\u001b[39m)\n\u001b[1;32m---> 19\u001b[0m \u001b[38;5;28msuper\u001b[39m()\u001b[38;5;241m.\u001b[39mbuy()\n",
      "\u001b[1;31mRuntimeError\u001b[0m: super(): no arguments"
     ]
    }
   ],
   "source": [
    "# using super outside the class\n",
    "class Phone:\n",
    "    def __init__(self, price, brand, camera):\n",
    "        print (\"Inside phone constructor\")\n",
    "        self.__price = price\n",
    "        self.brand = brand\n",
    "        self.camera = camera\n",
    "\n",
    "    def buy(self):\n",
    "        print (\"Buying a phone\")\n",
    "\n",
    "class SmartPhone(Phone):\n",
    "    def buy(self):\n",
    "        print (\"Buying a smartphone\")\n",
    "        # syntax to call parent ka buy method\n",
    "\n",
    "s=SmartPhone(20000, \"Apple\", 13)\n",
    "\n",
    "super().buy()"
   ]
  },
  {
   "cell_type": "code",
   "execution_count": 102,
   "metadata": {},
   "outputs": [
    {
     "name": "stdout",
     "output_type": "stream",
     "text": [
      "Inside phone constructor\n",
      "Buying a smartphone\n"
     ]
    },
    {
     "ename": "AttributeError",
     "evalue": "'super' object has no attribute 'brand'",
     "output_type": "error",
     "traceback": [
      "\u001b[1;31m---------------------------------------------------------------------------\u001b[0m",
      "\u001b[1;31mAttributeError\u001b[0m                            Traceback (most recent call last)",
      "Cell \u001b[1;32mIn[102], line 21\u001b[0m\n\u001b[0;32m     17\u001b[0m         \u001b[38;5;28mprint\u001b[39m(\u001b[38;5;28msuper\u001b[39m()\u001b[38;5;241m.\u001b[39mbrand)\n\u001b[0;32m     19\u001b[0m s\u001b[38;5;241m=\u001b[39mSmartPhone(\u001b[38;5;241m20000\u001b[39m, \u001b[38;5;124m\"\u001b[39m\u001b[38;5;124mApple\u001b[39m\u001b[38;5;124m\"\u001b[39m, \u001b[38;5;241m13\u001b[39m)\n\u001b[1;32m---> 21\u001b[0m s\u001b[38;5;241m.\u001b[39mbuy()\n",
      "Cell \u001b[1;32mIn[102], line 17\u001b[0m, in \u001b[0;36mSmartPhone.buy\u001b[1;34m(self)\u001b[0m\n\u001b[0;32m     15\u001b[0m \u001b[38;5;28mprint\u001b[39m (\u001b[38;5;124m\"\u001b[39m\u001b[38;5;124mBuying a smartphone\u001b[39m\u001b[38;5;124m\"\u001b[39m)\n\u001b[0;32m     16\u001b[0m \u001b[38;5;66;03m# syntax to call parent ka buy method\u001b[39;00m\n\u001b[1;32m---> 17\u001b[0m \u001b[38;5;28mprint\u001b[39m(\u001b[38;5;28msuper\u001b[39m()\u001b[38;5;241m.\u001b[39mbrand)\n",
      "\u001b[1;31mAttributeError\u001b[0m: 'super' object has no attribute 'brand'"
     ]
    }
   ],
   "source": [
    "# can super access parent's data? \n",
    "# ANS : NO\n",
    "class Phone:\n",
    "    def __init__(self, price, brand, camera):\n",
    "        print (\"Inside phone constructor\")\n",
    "        self.__price = price\n",
    "        self.brand = brand\n",
    "        self.camera = camera\n",
    "\n",
    "    def buy(self):\n",
    "        print (\"Buying a phone\")\n",
    "\n",
    "class SmartPhone(Phone):\n",
    "    def buy(self):\n",
    "        print (\"Buying a smartphone\")\n",
    "        # syntax to call parent ka buy method\n",
    "        print(super().brand)\n",
    "\n",
    "s=SmartPhone(20000, \"Apple\", 13)\n",
    "\n",
    "s.buy()"
   ]
  },
  {
   "cell_type": "code",
   "execution_count": 103,
   "metadata": {},
   "outputs": [
    {
     "name": "stdout",
     "output_type": "stream",
     "text": [
      "Inside smartphone constructor\n",
      "Inside phone constructor\n",
      "Inside smartphone constructor\n",
      "Android\n",
      "Samsung\n"
     ]
    }
   ],
   "source": [
    "# super -> constuctor\n",
    "class Phone:\n",
    "    def __init__(self, price, brand, camera):\n",
    "        print (\"Inside phone constructor\")\n",
    "        self.__price = price\n",
    "        self.brand = brand\n",
    "        self.camera = camera\n",
    "\n",
    "class SmartPhone(Phone):\n",
    "    def __init__(self, price, brand, camera, os, ram):\n",
    "        print('Inside smartphone constructor')\n",
    "        super().__init__(price, brand, camera)\n",
    "        self.os = os\n",
    "        self.ram = ram\n",
    "        print (\"Inside smartphone constructor\")\n",
    "\n",
    "s=SmartPhone(20000, \"Samsung\", 12, \"Android\", 2)\n",
    "\n",
    "print(s.os)\n",
    "print(s.brand)"
   ]
  },
  {
   "cell_type": "markdown",
   "metadata": {},
   "source": [
    "##### Inheritance in summary\n",
    "\n",
    "- A class can inherit from another class.\n",
    "\n",
    "- Inheritance improves code reuse\n",
    "\n",
    "- Constructor, attributes, methods get inherited to the child class\n",
    "\n",
    "- The parent has no access to the child class\n",
    "\n",
    "- Private properties of parent are not accessible directly in child class\n",
    "\n",
    "- Child class can override the attributes or methods. This is called method overriding\n",
    "\n",
    "- super() is an inbuilt function which is used to invoke the parent class methods and constructor"
   ]
  },
  {
   "cell_type": "code",
   "execution_count": 105,
   "metadata": {},
   "outputs": [
    {
     "name": "stdout",
     "output_type": "stream",
     "text": [
      "100\n",
      "200\n"
     ]
    }
   ],
   "source": [
    "class Parent:\n",
    "\n",
    "    def __init__(self,num):\n",
    "      self.__num=num\n",
    "\n",
    "    def get_num(self):\n",
    "      return self.__num\n",
    "\n",
    "class Child(Parent):\n",
    "  \n",
    "    def __init__(self,num,val):\n",
    "      super().__init__(num)\n",
    "      self.__val=val\n",
    "\n",
    "    def get_val(self):\n",
    "      return self.__val\n",
    "      \n",
    "son=Child(100,200)\n",
    "print(son.get_num())\n",
    "print(son.get_val())"
   ]
  },
  {
   "cell_type": "code",
   "execution_count": 106,
   "metadata": {},
   "outputs": [
    {
     "name": "stdout",
     "output_type": "stream",
     "text": [
      "100\n",
      "200\n"
     ]
    }
   ],
   "source": [
    "class Parent:\n",
    "    def __init__(self):\n",
    "        self.num=100\n",
    "\n",
    "class Child(Parent):\n",
    "\n",
    "    def __init__(self):\n",
    "        super().__init__()\n",
    "        self.var=200\n",
    "        \n",
    "    def show(self):\n",
    "        print(self.num)\n",
    "        print(self.var)\n",
    "\n",
    "son=Child()\n",
    "son.show()"
   ]
  },
  {
   "cell_type": "code",
   "execution_count": 107,
   "metadata": {},
   "outputs": [
    {
     "name": "stdout",
     "output_type": "stream",
     "text": [
      "Child: 10\n"
     ]
    }
   ],
   "source": [
    "class Parent:\n",
    "    def __init__(self):\n",
    "        self.__num=100\n",
    "\n",
    "    def show(self):\n",
    "        print(\"Parent:\",self.__num)\n",
    "\n",
    "class Child(Parent):\n",
    "    def __init__(self):\n",
    "        super().__init__()\n",
    "        self.__var=10\n",
    "\n",
    "    def show(self):\n",
    "        print(\"Child:\",self.__var)\n",
    "\n",
    "obj=Child()\n",
    "obj.show()"
   ]
  },
  {
   "cell_type": "code",
   "execution_count": 110,
   "metadata": {},
   "outputs": [],
   "source": [
    "class Parent:\n",
    "\n",
    "    def __init__(self):\n",
    "        self.__num=100\n",
    "\n",
    "    def show(self):\n",
    "        print(self.__num)\n",
    "\n",
    "\n",
    "class Child(Parent):\n",
    "\n",
    "    def __init__(self):\n",
    "        super().__init__()\n",
    "        self.__var=10\n",
    "\n",
    "    def show(self): # method just override here \n",
    "        print(\"child: \",self.__var)\n"
   ]
  },
  {
   "cell_type": "code",
   "execution_count": 111,
   "metadata": {},
   "outputs": [
    {
     "name": "stdout",
     "output_type": "stream",
     "text": [
      "child:  10\n"
     ]
    }
   ],
   "source": [
    "obj=Child()\n",
    "obj.show()"
   ]
  },
  {
   "cell_type": "markdown",
   "metadata": {},
   "source": [
    "### Types of Inheritance\n",
    "\n",
    "- Single Inheritance\n",
    "- Multilevel Inheritance\n",
    "- Hierarchical Inheritance\n",
    "- Multiple Inheritance(Diamond Problem)\n",
    "- Hybrid Inheritance"
   ]
  },
  {
   "cell_type": "code",
   "execution_count": 113,
   "metadata": {},
   "outputs": [
    {
     "name": "stdout",
     "output_type": "stream",
     "text": [
      "Inside phone constructor\n",
      "Buying a phone\n"
     ]
    }
   ],
   "source": [
    "# single inheritance\n",
    "class Phone:\n",
    "    def __init__(self, price, brand, camera):\n",
    "        print (\"Inside phone constructor\")\n",
    "        self.__price = price\n",
    "        self.brand = brand\n",
    "        self.camera = camera\n",
    "\n",
    "    def buy(self):\n",
    "        print (\"Buying a phone\")\n",
    "\n",
    "class SmartPhone(Phone):\n",
    "    pass\n",
    "\n",
    "SmartPhone(1000,\"Apple\",\"13px\").buy()"
   ]
  },
  {
   "cell_type": "code",
   "execution_count": 114,
   "metadata": {},
   "outputs": [
    {
     "name": "stdout",
     "output_type": "stream",
     "text": [
      "Inside phone constructor\n",
      "Buying a phone\n",
      "Product customer review\n"
     ]
    }
   ],
   "source": [
    "# multilevel\n",
    "class Product:\n",
    "    def review(self):\n",
    "        print (\"Product customer review\")\n",
    "\n",
    "class Phone(Product):\n",
    "    def __init__(self, price, brand, camera):\n",
    "        print (\"Inside phone constructor\")\n",
    "        self.__price = price\n",
    "        self.brand = brand\n",
    "        self.camera = camera\n",
    "\n",
    "    def buy(self):\n",
    "        print (\"Buying a phone\")\n",
    "\n",
    "class SmartPhone(Phone):\n",
    "    pass\n",
    "\n",
    "s=SmartPhone(20000, \"Apple\", 12)\n",
    "\n",
    "s.buy()\n",
    "s.review()"
   ]
  },
  {
   "cell_type": "code",
   "execution_count": 115,
   "metadata": {},
   "outputs": [
    {
     "name": "stdout",
     "output_type": "stream",
     "text": [
      "Inside phone constructor\n",
      "Buying a phone\n",
      "Inside phone constructor\n",
      "Buying a phone\n"
     ]
    }
   ],
   "source": [
    "# Hierarchical\n",
    "class Phone:\n",
    "    def __init__(self, price, brand, camera):\n",
    "        print (\"Inside phone constructor\")\n",
    "        self.__price = price\n",
    "        self.brand = brand\n",
    "        self.camera = camera\n",
    "\n",
    "    def buy(self):\n",
    "        print (\"Buying a phone\")\n",
    "\n",
    "class SmartPhone(Phone):\n",
    "    pass\n",
    "\n",
    "class FeaturePhone(Phone):\n",
    "    pass\n",
    "\n",
    "SmartPhone(1000,\"Apple\",\"13px\").buy()\n",
    "FeaturePhone(10,\"Lava\",\"1px\").buy()"
   ]
  },
  {
   "cell_type": "code",
   "execution_count": 116,
   "metadata": {},
   "outputs": [
    {
     "name": "stdout",
     "output_type": "stream",
     "text": [
      "Inside phone constructor\n",
      "Buying a phone\n",
      "Customer review\n"
     ]
    }
   ],
   "source": [
    "# Multiple\n",
    "class Phone:\n",
    "    def __init__(self, price, brand, camera):\n",
    "        print (\"Inside phone constructor\")\n",
    "        self.__price = price\n",
    "        self.brand = brand\n",
    "        self.camera = camera\n",
    "\n",
    "    def buy(self):\n",
    "        print (\"Buying a phone\")\n",
    "\n",
    "class Product:\n",
    "    def review(self):\n",
    "        print (\"Customer review\")\n",
    "\n",
    "class SmartPhone(Phone, Product):\n",
    "    pass\n",
    "\n",
    "s=SmartPhone(20000, \"Apple\", 12)\n",
    "\n",
    "s.buy()\n",
    "s.review()\n"
   ]
  },
  {
   "cell_type": "code",
   "execution_count": 117,
   "metadata": {},
   "outputs": [
    {
     "name": "stdout",
     "output_type": "stream",
     "text": [
      "Inside phone constructor\n",
      "Buying a phone\n"
     ]
    }
   ],
   "source": [
    "# the diamond problem\n",
    "# https://stackoverflow.com/questions/56361048/what-is-the-diamond-problem-in-python-and-why-its-not-appear-in-python2\n",
    "class Phone:\n",
    "    def __init__(self, price, brand, camera):\n",
    "        print (\"Inside phone constructor\")\n",
    "        self.__price = price\n",
    "        self.brand = brand\n",
    "        self.camera = camera\n",
    "\n",
    "    def buy(self):\n",
    "        print (\"Buying a phone\")\n",
    "\n",
    "class Product:\n",
    "    def buy(self):\n",
    "        print (\"Product buy method\")\n",
    "\n",
    "# Method resolution order\n",
    "class SmartPhone(Phone,Product):\n",
    "    pass\n",
    "\n",
    "s=SmartPhone(20000, \"Apple\", 12)\n",
    "\n",
    "s.buy()"
   ]
  },
  {
   "cell_type": "code",
   "execution_count": 118,
   "metadata": {},
   "outputs": [
    {
     "name": "stdout",
     "output_type": "stream",
     "text": [
      "70\n"
     ]
    }
   ],
   "source": [
    "class A:\n",
    "\n",
    "    def m1(self):\n",
    "        return 20\n",
    "\n",
    "class B(A):\n",
    "\n",
    "    def m1(self):\n",
    "        return 30\n",
    "\n",
    "    def m2(self):\n",
    "        return 40\n",
    "\n",
    "class C(B):\n",
    "  \n",
    "    def m2(self):\n",
    "        return 20\n",
    "obj1=A()\n",
    "obj2=B()\n",
    "obj3=C()\n",
    "print(obj1.m1() + obj3.m1()+ obj3.m2())"
   ]
  },
  {
   "cell_type": "code",
   "execution_count": 119,
   "metadata": {},
   "outputs": [
    {
     "ename": "RecursionError",
     "evalue": "maximum recursion depth exceeded",
     "output_type": "error",
     "traceback": [
      "\u001b[1;31m---------------------------------------------------------------------------\u001b[0m",
      "\u001b[1;31mRecursionError\u001b[0m                            Traceback (most recent call last)",
      "Cell \u001b[1;32mIn[119], line 18\u001b[0m\n\u001b[0;32m     16\u001b[0m         \u001b[38;5;28;01mreturn\u001b[39;00m val\n\u001b[0;32m     17\u001b[0m obj\u001b[38;5;241m=\u001b[39mC()\n\u001b[1;32m---> 18\u001b[0m \u001b[38;5;28mprint\u001b[39m(obj\u001b[38;5;241m.\u001b[39mm1())\n",
      "Cell \u001b[1;32mIn[119], line 15\u001b[0m, in \u001b[0;36mC.m1\u001b[1;34m(self)\u001b[0m\n\u001b[0;32m     14\u001b[0m \u001b[38;5;28;01mdef\u001b[39;00m \u001b[38;5;21mm1\u001b[39m(\u001b[38;5;28mself\u001b[39m):\n\u001b[1;32m---> 15\u001b[0m     val\u001b[38;5;241m=\u001b[39m\u001b[38;5;28mself\u001b[39m\u001b[38;5;241m.\u001b[39mm1()\u001b[38;5;241m+\u001b[39m\u001b[38;5;241m20\u001b[39m\n\u001b[0;32m     16\u001b[0m     \u001b[38;5;28;01mreturn\u001b[39;00m val\n",
      "Cell \u001b[1;32mIn[119], line 15\u001b[0m, in \u001b[0;36mC.m1\u001b[1;34m(self)\u001b[0m\n\u001b[0;32m     14\u001b[0m \u001b[38;5;28;01mdef\u001b[39;00m \u001b[38;5;21mm1\u001b[39m(\u001b[38;5;28mself\u001b[39m):\n\u001b[1;32m---> 15\u001b[0m     val\u001b[38;5;241m=\u001b[39m\u001b[38;5;28mself\u001b[39m\u001b[38;5;241m.\u001b[39mm1()\u001b[38;5;241m+\u001b[39m\u001b[38;5;241m20\u001b[39m\n\u001b[0;32m     16\u001b[0m     \u001b[38;5;28;01mreturn\u001b[39;00m val\n",
      "    \u001b[1;31m[... skipping similar frames: C.m1 at line 15 (2971 times)]\u001b[0m\n",
      "Cell \u001b[1;32mIn[119], line 15\u001b[0m, in \u001b[0;36mC.m1\u001b[1;34m(self)\u001b[0m\n\u001b[0;32m     14\u001b[0m \u001b[38;5;28;01mdef\u001b[39;00m \u001b[38;5;21mm1\u001b[39m(\u001b[38;5;28mself\u001b[39m):\n\u001b[1;32m---> 15\u001b[0m     val\u001b[38;5;241m=\u001b[39m\u001b[38;5;28mself\u001b[39m\u001b[38;5;241m.\u001b[39mm1()\u001b[38;5;241m+\u001b[39m\u001b[38;5;241m20\u001b[39m\n\u001b[0;32m     16\u001b[0m     \u001b[38;5;28;01mreturn\u001b[39;00m val\n",
      "\u001b[1;31mRecursionError\u001b[0m: maximum recursion depth exceeded"
     ]
    }
   ],
   "source": [
    "class A:\n",
    "\n",
    "    def m1(self):\n",
    "        return 20\n",
    "\n",
    "class B(A):\n",
    "\n",
    "    def m1(self):\n",
    "        val=super().m1()+30\n",
    "        return val\n",
    "\n",
    "class C(B):\n",
    "  \n",
    "    def m1(self):\n",
    "        val=self.m1()+20\n",
    "        return val\n",
    "obj=C()\n",
    "print(obj.m1())"
   ]
  },
  {
   "cell_type": "markdown",
   "metadata": {},
   "source": [
    "### Polymorphism\n",
    "\n",
    "- Method Overriding\n",
    "- Method Overloading (parameter vary korbe and code will look cleaner)\n",
    "- Operator Overloading"
   ]
  },
  {
   "cell_type": "code",
   "execution_count": 120,
   "metadata": {},
   "outputs": [
    {
     "name": "stdout",
     "output_type": "stream",
     "text": [
      "12.56\n",
      "12\n"
     ]
    }
   ],
   "source": [
    "\n",
    "# implementing method overloading\n",
    "\n",
    "class Shape:\n",
    "\n",
    "  def area(self,a,b=0):\n",
    "    if b == 0:\n",
    "      return 3.14*a*a\n",
    "    else:\n",
    "      return a*b\n",
    "\n",
    "s = Shape()\n",
    "\n",
    "print(s.area(2))\n",
    "print(s.area(3,4))"
   ]
  },
  {
   "cell_type": "code",
   "execution_count": 122,
   "metadata": {},
   "outputs": [
    {
     "data": {
      "text/plain": [
       "'hello world'"
      ]
     },
     "execution_count": 122,
     "metadata": {},
     "output_type": "execute_result"
    }
   ],
   "source": [
    "# concating\n",
    "'hello ' + 'world' "
   ]
  },
  {
   "cell_type": "code",
   "execution_count": 124,
   "metadata": {},
   "outputs": [
    {
     "data": {
      "text/plain": [
       "[1, 2, 3, 4, 5, 6]"
      ]
     },
     "execution_count": 124,
     "metadata": {},
     "output_type": "execute_result"
    }
   ],
   "source": [
    "#scaling\n",
    "[1,2,3]+[4,5,6]"
   ]
  },
  {
   "cell_type": "markdown",
   "metadata": {},
   "source": [
    "### Abstraction"
   ]
  },
  {
   "cell_type": "code",
   "execution_count": 125,
   "metadata": {},
   "outputs": [],
   "source": [
    "from abc import ABC, abstractmethod\n"
   ]
  },
  {
   "cell_type": "code",
   "execution_count": 135,
   "metadata": {},
   "outputs": [],
   "source": [
    "class BankApp(ABC):\n",
    "\n",
    "    def __init__(self):\n",
    "        self.database()\n",
    "        \n",
    "    def database(self):\n",
    "        print(\"connected to database\")\n",
    "    \n",
    "    @abstractmethod\n",
    "    def security(self):\n",
    "        pass\n",
    "\n",
    "    @abstractmethod\n",
    "    def display(self):\n",
    "        pass"
   ]
  },
  {
   "cell_type": "code",
   "execution_count": 136,
   "metadata": {},
   "outputs": [],
   "source": [
    "class MobileApp(BankApp):\n",
    "\n",
    "    def __init__(self):\n",
    "        self.mobile_login()\n",
    "        super().__init__()\n",
    "\n",
    "    def mobile_login(self):\n",
    "        print(\"logIn into mobile\")\n",
    "    \n",
    "    def security(self):\n",
    "        print('mobile security')\n",
    "    \n",
    "    def display(self):\n",
    "        print('Display')"
   ]
  },
  {
   "cell_type": "code",
   "execution_count": 137,
   "metadata": {},
   "outputs": [
    {
     "name": "stdout",
     "output_type": "stream",
     "text": [
      "logIn into mobile\n",
      "connected to database\n"
     ]
    }
   ],
   "source": [
    "mob=MobileApp()\n"
   ]
  },
  {
   "cell_type": "markdown",
   "metadata": {},
   "source": [
    "# This Is The End of OOP in PYTHON \" THANK FOR STAYING WITH ME \""
   ]
  }
 ],
 "metadata": {
  "kernelspec": {
   "display_name": "dataScience",
   "language": "python",
   "name": "python3"
  },
  "language_info": {
   "codemirror_mode": {
    "name": "ipython",
    "version": 3
   },
   "file_extension": ".py",
   "mimetype": "text/x-python",
   "name": "python",
   "nbconvert_exporter": "python",
   "pygments_lexer": "ipython3",
   "version": "3.11.7"
  }
 },
 "nbformat": 4,
 "nbformat_minor": 2
}
